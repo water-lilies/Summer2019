{
 "cells": [
  {
   "cell_type": "code",
   "execution_count": null,
   "metadata": {},
   "outputs": [],
   "source": [
    "from selenium import webdriver"
   ]
  },
  {
   "cell_type": "code",
   "execution_count": null,
   "metadata": {},
   "outputs": [],
   "source": [
    "driver = webdriver.Chrome('../webdriver/chromedriver.exe')\n",
    "driver.implicitly_wail(3)\n",
    "driver.get(\"https://movie.naver.com/movie/bi/mi/point.nhn?code=156464\")"
   ]
  },
  {
   "cell_type": "markdown",
   "metadata": {},
   "source": [
    "### 네티즌 평점 출력"
   ]
  },
  {
   "cell_type": "code",
   "execution_count": null,
   "metadata": {},
   "outputs": [],
   "source": []
  },
  {
   "cell_type": "code",
   "execution_count": null,
   "metadata": {},
   "outputs": [],
   "source": []
  },
  {
   "cell_type": "code",
   "execution_count": null,
   "metadata": {},
   "outputs": [],
   "source": [
    "result_list=[]\n",
    "\n",
    "for i in range(1,11):\n",
    "    print(1)\n",
    "    # 페이지 접근주소 접근 = '실제주소&page ='+str(i)\n",
    "    driver.get('http://movie.naver.com/movie/bi/mi/review.nhn?code=156464&page='+str(i))\n",
    "    target = '#reviewTap > div>div>ul>li>p>a'\n",
    "    result = driver.find_elements_by_css_selector(target)\n",
    "    # 리뷰내용을 리스트에 추가\n",
    "    for j in result:\n",
    "        result_list.append(j.text)        "
   ]
  },
  {
   "cell_type": "code",
   "execution_count": null,
   "metadata": {},
   "outputs": [],
   "source": [
    "print (result_list)"
   ]
  },
  {
   "cell_type": "code",
   "execution_count": null,
   "metadata": {},
   "outputs": [],
   "source": [
    "driver.close()"
   ]
  },
  {
   "cell_type": "code",
   "execution_count": null,
   "metadata": {},
   "outputs": [],
   "source": [
    "import numpy as  np"
   ]
  },
  {
   "cell_type": "code",
   "execution_count": null,
   "metadata": {},
   "outputs": [],
   "source": [
    "# change the value in return to set\n",
    "# the single color need, in hsl format.\n",
    "# hsl(hue 색조, saturation 채도, lightness 밝기)\n",
    "\n",
    "def grey_color_func(word, font_size, position, orientation,\n",
    "                   random_state=None, **kwargs):\n",
    "    return(\"hsl(1,100%%,100%%)\")"
   ]
  },
  {
   "cell_type": "code",
   "execution_count": null,
   "metadata": {},
   "outputs": [],
   "source": []
  },
  {
   "cell_type": "code",
   "execution_count": null,
   "metadata": {},
   "outputs": [],
   "source": []
  }
 ],
 "metadata": {
  "kernelspec": {
   "display_name": "Python 3",
   "language": "python",
   "name": "python3"
  },
  "language_info": {
   "codemirror_mode": {
    "name": "ipython",
    "version": 3
   },
   "file_extension": ".py",
   "mimetype": "text/x-python",
   "name": "python",
   "nbconvert_exporter": "python",
   "pygments_lexer": "ipython3",
   "version": "3.7.3"
  }
 },
 "nbformat": 4,
 "nbformat_minor": 2
}

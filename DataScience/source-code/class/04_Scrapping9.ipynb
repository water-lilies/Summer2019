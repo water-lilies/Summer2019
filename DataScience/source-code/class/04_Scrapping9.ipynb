{
 "cells": [
  {
   "cell_type": "code",
   "execution_count": 8,
   "metadata": {},
   "outputs": [],
   "source": [
    "import requests\n",
    "from bs4 import BeautifulSoup\n",
    "from fake_useragent import UserAgent"
   ]
  },
  {
   "cell_type": "code",
   "execution_count": 10,
   "metadata": {},
   "outputs": [
    {
     "name": "stdout",
     "output_type": "stream",
     "text": [
      "[<a href=\"javascript:melon.play.playSong('19030101',31856628);\" title=\"아퍼 (Feat. Kid Milli, Lil tachi, 김승민, NO:EL, C JAMM) 재생\">아퍼 (Feat. Kid Milli, Lil tachi, 김승민, NO:EL, C JAMM)</a>, <a href=\"javascript:melon.link.goArtistDetail('585492');\" title=\"기리보이 - 페이지 이동\">기리보이</a>, <a href=\"javascript:melon.link.goArtistDetail('585492');\" title=\"기리보이 - 페이지 이동\">기리보이</a>]\n",
      "아퍼 (Feat. Kid Milli, Lil tachi, 김승민, NO:EL, C JAMM)\n",
      "기리보이\n"
     ]
    }
   ],
   "source": [
    "'''\n",
    "headers = {\n",
    "    'User-Agent': 'Mozilla/5.0 (Windows NT 6.1; Win64; x64) AppleWebKit/537.36 (KHTML, like Gecko) Chrome/65.0.3325.181 Safari/537.36'\n",
    "}\n",
    "'''\n",
    "# 헤더 선언\n",
    "headers = {\n",
    "    'User-Agent': UserAgent().ie\n",
    "}\n",
    "\n",
    "# get data from target end point\n",
    "res = requests.get('http://www.melon.com/chart/index.htm', headers=headers)\n",
    "\n",
    "# make soup object(make a parsable object)\n",
    "soup = BeautifulSoup(res.text, 'html.parser')\n",
    "\n",
    "#lst50 > td:nth-child(6) > div > div > div.ellipsis.rank01 > span > a\n",
    "\n",
    "# td:nth-child(6) --> 6번째 자식\n",
    "# td:nth-of-type(6) --> 6번째 td인 자식\n",
    "\n",
    "#frm > div.service_list_song > table > tr.lst50\n",
    "two_anchor = soup.select(\n",
    "    '#frm > div.service_list_song > table > tbody > tr:nth-of-type(35) > td:nth-of-type(6) a')\n",
    "\n",
    "print(two_anchor)\n",
    "print(two_anchor[0].string)\n",
    "print(two_anchor[1].text)\n"
   ]
  },
  {
   "cell_type": "code",
   "execution_count": null,
   "metadata": {},
   "outputs": [],
   "source": []
  }
 ],
 "metadata": {
  "kernelspec": {
   "display_name": "Python 3",
   "language": "python",
   "name": "python3"
  },
  "language_info": {
   "codemirror_mode": {
    "name": "ipython",
    "version": 3
   },
   "file_extension": ".py",
   "mimetype": "text/x-python",
   "name": "python",
   "nbconvert_exporter": "python",
   "pygments_lexer": "ipython3",
   "version": "3.7.3"
  }
 },
 "nbformat": 4,
 "nbformat_minor": 2
}

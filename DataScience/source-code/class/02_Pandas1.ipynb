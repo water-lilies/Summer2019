{
 "cells": [
  {
   "cell_type": "code",
   "execution_count": 1,
   "metadata": {},
   "outputs": [],
   "source": [
    "import numpy as np\n",
    "import pandas as pd"
   ]
  },
  {
   "cell_type": "markdown",
   "metadata": {},
   "source": [
    "## Pandas 개요\n",
    "\n",
    "- pandas는 데이터처리와 분석을 위한 파이썬 라이브러리\n",
    "- R의 dataframe을 본떠서 설계한 DataFrame 데이터 구조를 기반으로 한다.  \n",
    "- pandas는 엑셀의 스프레드시트와 비슷한 테이블제공(파이썬계의 엑셀)\n",
    "- pandas에는 Series와 DataFrame이라는 두 종류의 자료구조가 있다.\n",
    "- Series는 1차원 데이터를 다루는 데 효과적인 자료구조이다.\n",
    "- DataFrame은 행과 열로 구성된 2차원 데이터를 다루는 데 효과적인 자료구조이다.\n"
   ]
  },
  {
   "cell_type": "markdown",
   "metadata": {},
   "source": [
    "## Pandas 주요기능\n",
    "\n",
    "- 자유로운 데이터 변환\n",
    "- 엑셀처럼 활용도가 높은 DataFrame 객체\n",
    "- pivot table과 같이 데이터 구조에 대한 변환\n",
    "- 날짜형 데이터(시계열)\n",
    "- 다양한 필터링\n",
    "- 누락된 데이터의 처리 기능 \n"
   ]
  },
  {
   "cell_type": "markdown",
   "metadata": {},
   "source": [
    "## Pandas 튜토리얼\n",
    "\n",
    "- https://pandas.pydata.org/pandas-docs/stable/getting_started/10min.html"
   ]
  },
  {
   "cell_type": "code",
   "execution_count": 32,
   "metadata": {},
   "outputs": [
    {
     "data": {
      "text/plain": [
       "'0.24.2'"
      ]
     },
     "execution_count": 32,
     "metadata": {},
     "output_type": "execute_result"
    }
   ],
   "source": [
    "pd.__version__"
   ]
  },
  {
   "cell_type": "markdown",
   "metadata": {},
   "source": [
    "## Series 생성하기\n",
    "\n",
    "- 시리즈 = Numpy배열(값) + 인덱스\n",
    "- 1차원의 인덱스가 부여된 배열 (인덱스는 숫자 or 문자열 가능)\n",
    "- SeriesVar = pd.Series(List)\n",
    "- SeriesVar = pd.Series(Dictionary)\n",
    "- 판다스와 파이썬 자료형 비교\n",
    "   - object - string\n",
    "   - int64 - int\n",
    "   - float64 - float"
   ]
  },
  {
   "cell_type": "code",
   "execution_count": 3,
   "metadata": {},
   "outputs": [
    {
     "data": {
      "text/plain": [
       "0     12\n",
       "1     30\n",
       "2    100\n",
       "3     33\n",
       "4     25\n",
       "dtype: int64"
      ]
     },
     "execution_count": 3,
     "metadata": {},
     "output_type": "execute_result"
    }
   ],
   "source": [
    "s1 = pd.Series([12,30,100,33,25])\n",
    "s1"
   ]
  },
  {
   "cell_type": "code",
   "execution_count": 4,
   "metadata": {},
   "outputs": [
    {
     "data": {
      "text/plain": [
       "0     레드벨벳\n",
       "1    방탄소년단\n",
       "2     트와이스\n",
       "3      워너원\n",
       "dtype: object"
      ]
     },
     "execution_count": 4,
     "metadata": {},
     "output_type": "execute_result"
    }
   ],
   "source": [
    "s2 = pd.Series(['레드벨벳','방탄소년단','트와이스','워너원'])\n",
    "s2"
   ]
  },
  {
   "cell_type": "code",
   "execution_count": 5,
   "metadata": {},
   "outputs": [
    {
     "data": {
      "text/plain": [
       "0    45.0\n",
       "1     5.5\n",
       "2    21.3\n",
       "dtype: float64"
      ]
     },
     "execution_count": 5,
     "metadata": {},
     "output_type": "execute_result"
    }
   ],
   "source": [
    "myList = [45.0,5.5, 21.3]\n",
    "s3 = pd.Series(myList)\n",
    "s3"
   ]
  },
  {
   "cell_type": "code",
   "execution_count": 7,
   "metadata": {},
   "outputs": [
    {
     "data": {
      "text/plain": [
       "a     apple\n",
       "b    banana\n",
       "c       cat\n",
       "dtype: object"
      ]
     },
     "execution_count": 7,
     "metadata": {},
     "output_type": "execute_result"
    }
   ],
   "source": [
    "s4 = pd.Series({'a':'apple','b':'banana','c':'cat'})\n",
    "s4"
   ]
  },
  {
   "cell_type": "markdown",
   "metadata": {},
   "source": [
    "### 값, 인덱스, 데이터형 추출\n",
    "\n",
    "- seriesVar.values\n",
    "- seriesVar.index\n",
    "- seriesVar.dtype"
   ]
  },
  {
   "cell_type": "code",
   "execution_count": 13,
   "metadata": {},
   "outputs": [
    {
     "name": "stdout",
     "output_type": "stream",
     "text": [
      "<class 'pandas.core.series.Series'> [ 12  30 100  33  25] RangeIndex(start=0, stop=5, step=1) int64\n",
      "<class 'pandas.core.series.Series'> ['apple' 'banana' 'cat'] Index(['a', 'b', 'c'], dtype='object') object\n"
     ]
    }
   ],
   "source": [
    "print(type(s1), s1.values, s1.index, s1.dtype)\n",
    "print(type(s4), s4.values, s4.index, s4.dtype)"
   ]
  },
  {
   "cell_type": "markdown",
   "metadata": {},
   "source": [
    "### 시리즈 생성시 인덱스 정의하기\n",
    "\n",
    "- SeriesVar = pd.Series(데이타리스트, index=인덱스리스트)\n",
    "- SeriesVar.index = 인덱스리스트"
   ]
  },
  {
   "cell_type": "code",
   "execution_count": 15,
   "metadata": {},
   "outputs": [
    {
     "data": {
      "text/plain": [
       "a      1\n",
       "b      3\n",
       "c     50\n",
       "d    100\n",
       "e     20\n",
       "dtype: int64"
      ]
     },
     "execution_count": 15,
     "metadata": {},
     "output_type": "execute_result"
    }
   ],
   "source": [
    "s5 = pd.Series([1,3,50,100, 20], index=['a','b','c','d','e'])\n",
    "s5"
   ]
  },
  {
   "cell_type": "code",
   "execution_count": 16,
   "metadata": {},
   "outputs": [
    {
     "name": "stdout",
     "output_type": "stream",
     "text": [
      "<class 'pandas.core.series.Series'> [  1   3  50 100  20] Index(['a', 'b', 'c', 'd', 'e'], dtype='object') int64\n"
     ]
    }
   ],
   "source": [
    "print(type(s5), s5.values, s5.index, s5.dtype)"
   ]
  },
  {
   "cell_type": "code",
   "execution_count": 20,
   "metadata": {},
   "outputs": [
    {
     "data": {
      "text/plain": [
       "aa      1\n",
       "bb      3\n",
       "cc     50\n",
       "dd    100\n",
       "ee     20\n",
       "dtype: int64"
      ]
     },
     "execution_count": 20,
     "metadata": {},
     "output_type": "execute_result"
    }
   ],
   "source": [
    "# 인덱스 재정의 \n",
    "s5.index = ['aa', 'bb', 'cc', 'dd', 'ee']\n",
    "s5"
   ]
  },
  {
   "cell_type": "markdown",
   "metadata": {},
   "source": [
    "### index.name, name으로 인덱스이름과 시리즈이름 정의하기\n",
    "\n",
    "- sVar.index.name : 인덱스이름 \n",
    "- sVar.name : 시리즈 이름"
   ]
  },
  {
   "cell_type": "code",
   "execution_count": 21,
   "metadata": {},
   "outputs": [
    {
     "data": {
      "text/plain": [
       "indexName\n",
       "aa      1\n",
       "bb      3\n",
       "cc     50\n",
       "dd    100\n",
       "ee     20\n",
       "Name: Series s5, dtype: int64"
      ]
     },
     "execution_count": 21,
     "metadata": {},
     "output_type": "execute_result"
    }
   ],
   "source": [
    "s5.index.name = 'indexName'\n",
    "s5.name = 'Series s5'\n",
    "s5"
   ]
  },
  {
   "cell_type": "markdown",
   "metadata": {},
   "source": [
    "## 퀴즈\n",
    "\n",
    "```python\n",
    "과목\n",
    "국어     90\n",
    "수학     80\n",
    "영어    100\n",
    "과학     55\n",
    "역사     70\n",
    "Name: 중간고사 성적표, dtype: int64\n",
    "평균  79.0\n",
    "```"
   ]
  },
  {
   "cell_type": "code",
   "execution_count": 25,
   "metadata": {},
   "outputs": [
    {
     "name": "stdout",
     "output_type": "stream",
     "text": [
      "과목\n",
      "국어     90\n",
      "수학     80\n",
      "영어    100\n",
      "과학     55\n",
      "역사     70\n",
      "Name: 중간고사 성적표, dtype: int64\n",
      "평균  79.0\n"
     ]
    }
   ],
   "source": [
    "grade = pd.Series([90,80,100,55,70])\n",
    "grade.index = ['국어','수학','영어','과학','역사']\n",
    "grade.name = '중간고사 성적표'\n",
    "grade.index.name = '과목'\n",
    "print(grade)\n",
    "print('평균 ', grade.mean())"
   ]
  },
  {
   "cell_type": "markdown",
   "metadata": {},
   "source": [
    "## 시리즈 인덱싱"
   ]
  },
  {
   "cell_type": "code",
   "execution_count": 26,
   "metadata": {},
   "outputs": [
    {
     "data": {
      "text/plain": [
       "홍길동     23\n",
       "신데렐라    18\n",
       "백설공주    25\n",
       "dtype: int64"
      ]
     },
     "execution_count": 26,
     "metadata": {},
     "output_type": "execute_result"
    }
   ],
   "source": [
    "s6 = pd.Series({'홍길동':23, '신데렐라':18, '백설공주':25})\n",
    "s6"
   ]
  },
  {
   "cell_type": "code",
   "execution_count": 27,
   "metadata": {},
   "outputs": [
    {
     "data": {
      "text/plain": [
       "23"
      ]
     },
     "execution_count": 27,
     "metadata": {},
     "output_type": "execute_result"
    }
   ],
   "source": [
    "# 인덱스 이름으로 호출\n",
    "s6['홍길동']"
   ]
  },
  {
   "cell_type": "code",
   "execution_count": 31,
   "metadata": {},
   "outputs": [
    {
     "name": "stdout",
     "output_type": "stream",
     "text": [
      "23 18 25 25\n"
     ]
    }
   ],
   "source": [
    "# 숫자 인덱스로 호출 \n",
    "print(s6[0], s6[1], s6[2], s6[-1])"
   ]
  },
  {
   "cell_type": "code",
   "execution_count": null,
   "metadata": {},
   "outputs": [],
   "source": []
  }
 ],
 "metadata": {
  "kernelspec": {
   "display_name": "Python 3",
   "language": "python",
   "name": "python3"
  },
  "language_info": {
   "codemirror_mode": {
    "name": "ipython",
    "version": 3
   },
   "file_extension": ".py",
   "mimetype": "text/x-python",
   "name": "python",
   "nbconvert_exporter": "python",
   "pygments_lexer": "ipython3",
   "version": "3.7.3"
  }
 },
 "nbformat": 4,
 "nbformat_minor": 2
}

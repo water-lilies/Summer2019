{
 "cells": [
  {
   "cell_type": "code",
   "execution_count": 1,
   "metadata": {},
   "outputs": [],
   "source": [
    "import numpy as np\n",
    "import pandas as pd"
   ]
  },
  {
   "cell_type": "markdown",
   "metadata": {},
   "source": [
    "## pd.date_range() 함수 알아보기\n",
    "\n",
    "- 연속적인 날짜 데이터에 사용\n",
    "- pd.date_range(초기날짜, periods=count)"
   ]
  },
  {
   "cell_type": "code",
   "execution_count": 2,
   "metadata": {},
   "outputs": [
    {
     "data": {
      "text/plain": [
       "array([ 1,  2,  3,  4,  5,  6,  7,  8,  9, 10])"
      ]
     },
     "execution_count": 2,
     "metadata": {},
     "output_type": "execute_result"
    }
   ],
   "source": [
    "# 연속된 숫자를 출력 \n",
    "np.arange(1,11)"
   ]
  },
  {
   "cell_type": "code",
   "execution_count": 33,
   "metadata": {},
   "outputs": [
    {
     "data": {
      "text/plain": [
       "DatetimeIndex(['2019-02-26', '2019-02-27', '2019-02-28', '2019-03-01',\n",
       "               '2019-03-02'],\n",
       "              dtype='datetime64[ns]', freq='D')"
      ]
     },
     "execution_count": 33,
     "metadata": {},
     "output_type": "execute_result"
    }
   ],
   "source": [
    "# 연속된 날짜 데이터 생성\n",
    "date_list = pd.date_range('20190226', periods=5)\n",
    "date_list"
   ]
  },
  {
   "cell_type": "code",
   "execution_count": 4,
   "metadata": {},
   "outputs": [
    {
     "data": {
      "text/plain": [
       "pandas.core.indexes.datetimes.DatetimeIndex"
      ]
     },
     "execution_count": 4,
     "metadata": {},
     "output_type": "execute_result"
    }
   ],
   "source": [
    "type(date_list)"
   ]
  },
  {
   "cell_type": "markdown",
   "metadata": {},
   "source": [
    "## 행별 열별로 정렬하기\n",
    "\n",
    "- 데이타프레임이름.sort_index(axis=0)\n",
    "- 데이타프레임이름.sort_index(axis=1)\n",
    "- 데이타프레임이름.sort_index(axis=0/1, ascending=False)\n",
    "- 원본 데이타프레임 데이터값은 변경이 없다"
   ]
  },
  {
   "cell_type": "code",
   "execution_count": 5,
   "metadata": {},
   "outputs": [
    {
     "data": {
      "text/html": [
       "<div>\n",
       "<style scoped>\n",
       "    .dataframe tbody tr th:only-of-type {\n",
       "        vertical-align: middle;\n",
       "    }\n",
       "\n",
       "    .dataframe tbody tr th {\n",
       "        vertical-align: top;\n",
       "    }\n",
       "\n",
       "    .dataframe thead th {\n",
       "        text-align: right;\n",
       "    }\n",
       "</style>\n",
       "<table border=\"1\" class=\"dataframe\">\n",
       "  <thead>\n",
       "    <tr style=\"text-align: right;\">\n",
       "      <th></th>\n",
       "      <th>0</th>\n",
       "      <th>1</th>\n",
       "      <th>2</th>\n",
       "      <th>3</th>\n",
       "    </tr>\n",
       "  </thead>\n",
       "  <tbody>\n",
       "    <tr>\n",
       "      <th>0</th>\n",
       "      <td>1.015140</td>\n",
       "      <td>0.295070</td>\n",
       "      <td>-0.601536</td>\n",
       "      <td>2.573313</td>\n",
       "    </tr>\n",
       "    <tr>\n",
       "      <th>1</th>\n",
       "      <td>-0.560500</td>\n",
       "      <td>-0.301447</td>\n",
       "      <td>-1.200178</td>\n",
       "      <td>-0.170648</td>\n",
       "    </tr>\n",
       "    <tr>\n",
       "      <th>2</th>\n",
       "      <td>-1.128085</td>\n",
       "      <td>1.526508</td>\n",
       "      <td>-1.344771</td>\n",
       "      <td>-0.209764</td>\n",
       "    </tr>\n",
       "    <tr>\n",
       "      <th>3</th>\n",
       "      <td>-1.175670</td>\n",
       "      <td>0.323895</td>\n",
       "      <td>0.809912</td>\n",
       "      <td>-0.020651</td>\n",
       "    </tr>\n",
       "    <tr>\n",
       "      <th>4</th>\n",
       "      <td>1.360085</td>\n",
       "      <td>1.068031</td>\n",
       "      <td>-2.126135</td>\n",
       "      <td>0.860304</td>\n",
       "    </tr>\n",
       "    <tr>\n",
       "      <th>5</th>\n",
       "      <td>0.514102</td>\n",
       "      <td>-0.653295</td>\n",
       "      <td>0.515434</td>\n",
       "      <td>-0.036126</td>\n",
       "    </tr>\n",
       "  </tbody>\n",
       "</table>\n",
       "</div>"
      ],
      "text/plain": [
       "          0         1         2         3\n",
       "0  1.015140  0.295070 -0.601536  2.573313\n",
       "1 -0.560500 -0.301447 -1.200178 -0.170648\n",
       "2 -1.128085  1.526508 -1.344771 -0.209764\n",
       "3 -1.175670  0.323895  0.809912 -0.020651\n",
       "4  1.360085  1.068031 -2.126135  0.860304\n",
       "5  0.514102 -0.653295  0.515434 -0.036126"
      ]
     },
     "execution_count": 5,
     "metadata": {},
     "output_type": "execute_result"
    }
   ],
   "source": [
    "df1 = pd.DataFrame(np.random.randn(6,4))\n",
    "df1"
   ]
  },
  {
   "cell_type": "code",
   "execution_count": 6,
   "metadata": {},
   "outputs": [
    {
     "data": {
      "text/html": [
       "<div>\n",
       "<style scoped>\n",
       "    .dataframe tbody tr th:only-of-type {\n",
       "        vertical-align: middle;\n",
       "    }\n",
       "\n",
       "    .dataframe tbody tr th {\n",
       "        vertical-align: top;\n",
       "    }\n",
       "\n",
       "    .dataframe thead th {\n",
       "        text-align: right;\n",
       "    }\n",
       "</style>\n",
       "<table border=\"1\" class=\"dataframe\">\n",
       "  <thead>\n",
       "    <tr style=\"text-align: right;\">\n",
       "      <th></th>\n",
       "      <th>B</th>\n",
       "      <th>A</th>\n",
       "      <th>D</th>\n",
       "      <th>C</th>\n",
       "    </tr>\n",
       "  </thead>\n",
       "  <tbody>\n",
       "    <tr>\n",
       "      <th>2019-01-22</th>\n",
       "      <td>1.015140</td>\n",
       "      <td>0.295070</td>\n",
       "      <td>-0.601536</td>\n",
       "      <td>2.573313</td>\n",
       "    </tr>\n",
       "    <tr>\n",
       "      <th>2019-01-23</th>\n",
       "      <td>-0.560500</td>\n",
       "      <td>-0.301447</td>\n",
       "      <td>-1.200178</td>\n",
       "      <td>-0.170648</td>\n",
       "    </tr>\n",
       "    <tr>\n",
       "      <th>2019-01-24</th>\n",
       "      <td>-1.128085</td>\n",
       "      <td>1.526508</td>\n",
       "      <td>-1.344771</td>\n",
       "      <td>-0.209764</td>\n",
       "    </tr>\n",
       "    <tr>\n",
       "      <th>2019-01-25</th>\n",
       "      <td>-1.175670</td>\n",
       "      <td>0.323895</td>\n",
       "      <td>0.809912</td>\n",
       "      <td>-0.020651</td>\n",
       "    </tr>\n",
       "    <tr>\n",
       "      <th>2019-01-26</th>\n",
       "      <td>1.360085</td>\n",
       "      <td>1.068031</td>\n",
       "      <td>-2.126135</td>\n",
       "      <td>0.860304</td>\n",
       "    </tr>\n",
       "    <tr>\n",
       "      <th>2019-01-27</th>\n",
       "      <td>0.514102</td>\n",
       "      <td>-0.653295</td>\n",
       "      <td>0.515434</td>\n",
       "      <td>-0.036126</td>\n",
       "    </tr>\n",
       "  </tbody>\n",
       "</table>\n",
       "</div>"
      ],
      "text/plain": [
       "                   B         A         D         C\n",
       "2019-01-22  1.015140  0.295070 -0.601536  2.573313\n",
       "2019-01-23 -0.560500 -0.301447 -1.200178 -0.170648\n",
       "2019-01-24 -1.128085  1.526508 -1.344771 -0.209764\n",
       "2019-01-25 -1.175670  0.323895  0.809912 -0.020651\n",
       "2019-01-26  1.360085  1.068031 -2.126135  0.860304\n",
       "2019-01-27  0.514102 -0.653295  0.515434 -0.036126"
      ]
     },
     "execution_count": 6,
     "metadata": {},
     "output_type": "execute_result"
    }
   ],
   "source": [
    "df1.columns = ['B','A','D','C']\n",
    "df1.index = pd.date_range('20190122', periods=6)\n",
    "df1"
   ]
  },
  {
   "cell_type": "code",
   "execution_count": 7,
   "metadata": {},
   "outputs": [
    {
     "data": {
      "text/plain": [
       "DatetimeIndex(['2019-01-22', '2019-01-23', '2019-01-24', '2019-01-25',\n",
       "               '2019-01-26', '2019-01-27'],\n",
       "              dtype='datetime64[ns]', freq='D')"
      ]
     },
     "execution_count": 7,
     "metadata": {},
     "output_type": "execute_result"
    }
   ],
   "source": [
    "# 행 위치 조정하기 \n",
    "df1.index "
   ]
  },
  {
   "cell_type": "code",
   "execution_count": 9,
   "metadata": {},
   "outputs": [
    {
     "data": {
      "text/html": [
       "<div>\n",
       "<style scoped>\n",
       "    .dataframe tbody tr th:only-of-type {\n",
       "        vertical-align: middle;\n",
       "    }\n",
       "\n",
       "    .dataframe tbody tr th {\n",
       "        vertical-align: top;\n",
       "    }\n",
       "\n",
       "    .dataframe thead th {\n",
       "        text-align: right;\n",
       "    }\n",
       "</style>\n",
       "<table border=\"1\" class=\"dataframe\">\n",
       "  <thead>\n",
       "    <tr style=\"text-align: right;\">\n",
       "      <th></th>\n",
       "      <th>B</th>\n",
       "      <th>A</th>\n",
       "      <th>D</th>\n",
       "      <th>C</th>\n",
       "    </tr>\n",
       "  </thead>\n",
       "  <tbody>\n",
       "    <tr>\n",
       "      <th>2019-01-27</th>\n",
       "      <td>1.015140</td>\n",
       "      <td>0.295070</td>\n",
       "      <td>-0.601536</td>\n",
       "      <td>2.573313</td>\n",
       "    </tr>\n",
       "    <tr>\n",
       "      <th>2019-01-25</th>\n",
       "      <td>-0.560500</td>\n",
       "      <td>-0.301447</td>\n",
       "      <td>-1.200178</td>\n",
       "      <td>-0.170648</td>\n",
       "    </tr>\n",
       "    <tr>\n",
       "      <th>2019-01-23</th>\n",
       "      <td>-1.128085</td>\n",
       "      <td>1.526508</td>\n",
       "      <td>-1.344771</td>\n",
       "      <td>-0.209764</td>\n",
       "    </tr>\n",
       "    <tr>\n",
       "      <th>2019-01-22</th>\n",
       "      <td>-1.175670</td>\n",
       "      <td>0.323895</td>\n",
       "      <td>0.809912</td>\n",
       "      <td>-0.020651</td>\n",
       "    </tr>\n",
       "    <tr>\n",
       "      <th>2019-01-24</th>\n",
       "      <td>1.360085</td>\n",
       "      <td>1.068031</td>\n",
       "      <td>-2.126135</td>\n",
       "      <td>0.860304</td>\n",
       "    </tr>\n",
       "    <tr>\n",
       "      <th>2019-01-26</th>\n",
       "      <td>0.514102</td>\n",
       "      <td>-0.653295</td>\n",
       "      <td>0.515434</td>\n",
       "      <td>-0.036126</td>\n",
       "    </tr>\n",
       "  </tbody>\n",
       "</table>\n",
       "</div>"
      ],
      "text/plain": [
       "                   B         A         D         C\n",
       "2019-01-27  1.015140  0.295070 -0.601536  2.573313\n",
       "2019-01-25 -0.560500 -0.301447 -1.200178 -0.170648\n",
       "2019-01-23 -1.128085  1.526508 -1.344771 -0.209764\n",
       "2019-01-22 -1.175670  0.323895  0.809912 -0.020651\n",
       "2019-01-24  1.360085  1.068031 -2.126135  0.860304\n",
       "2019-01-26  0.514102 -0.653295  0.515434 -0.036126"
      ]
     },
     "execution_count": 9,
     "metadata": {},
     "output_type": "execute_result"
    }
   ],
   "source": [
    "df1.index = ['2019-01-27','2019-01-25', '2019-01-23', \n",
    "             '2019-01-22','2019-01-24', '2019-01-26' ]\n",
    "df1"
   ]
  },
  {
   "cell_type": "code",
   "execution_count": 10,
   "metadata": {},
   "outputs": [
    {
     "data": {
      "text/html": [
       "<div>\n",
       "<style scoped>\n",
       "    .dataframe tbody tr th:only-of-type {\n",
       "        vertical-align: middle;\n",
       "    }\n",
       "\n",
       "    .dataframe tbody tr th {\n",
       "        vertical-align: top;\n",
       "    }\n",
       "\n",
       "    .dataframe thead th {\n",
       "        text-align: right;\n",
       "    }\n",
       "</style>\n",
       "<table border=\"1\" class=\"dataframe\">\n",
       "  <thead>\n",
       "    <tr style=\"text-align: right;\">\n",
       "      <th></th>\n",
       "      <th>B</th>\n",
       "      <th>A</th>\n",
       "      <th>D</th>\n",
       "      <th>C</th>\n",
       "    </tr>\n",
       "  </thead>\n",
       "  <tbody>\n",
       "    <tr>\n",
       "      <th>2019-01-22</th>\n",
       "      <td>-1.175670</td>\n",
       "      <td>0.323895</td>\n",
       "      <td>0.809912</td>\n",
       "      <td>-0.020651</td>\n",
       "    </tr>\n",
       "    <tr>\n",
       "      <th>2019-01-23</th>\n",
       "      <td>-1.128085</td>\n",
       "      <td>1.526508</td>\n",
       "      <td>-1.344771</td>\n",
       "      <td>-0.209764</td>\n",
       "    </tr>\n",
       "    <tr>\n",
       "      <th>2019-01-24</th>\n",
       "      <td>1.360085</td>\n",
       "      <td>1.068031</td>\n",
       "      <td>-2.126135</td>\n",
       "      <td>0.860304</td>\n",
       "    </tr>\n",
       "    <tr>\n",
       "      <th>2019-01-25</th>\n",
       "      <td>-0.560500</td>\n",
       "      <td>-0.301447</td>\n",
       "      <td>-1.200178</td>\n",
       "      <td>-0.170648</td>\n",
       "    </tr>\n",
       "    <tr>\n",
       "      <th>2019-01-26</th>\n",
       "      <td>0.514102</td>\n",
       "      <td>-0.653295</td>\n",
       "      <td>0.515434</td>\n",
       "      <td>-0.036126</td>\n",
       "    </tr>\n",
       "    <tr>\n",
       "      <th>2019-01-27</th>\n",
       "      <td>1.015140</td>\n",
       "      <td>0.295070</td>\n",
       "      <td>-0.601536</td>\n",
       "      <td>2.573313</td>\n",
       "    </tr>\n",
       "  </tbody>\n",
       "</table>\n",
       "</div>"
      ],
      "text/plain": [
       "                   B         A         D         C\n",
       "2019-01-22 -1.175670  0.323895  0.809912 -0.020651\n",
       "2019-01-23 -1.128085  1.526508 -1.344771 -0.209764\n",
       "2019-01-24  1.360085  1.068031 -2.126135  0.860304\n",
       "2019-01-25 -0.560500 -0.301447 -1.200178 -0.170648\n",
       "2019-01-26  0.514102 -0.653295  0.515434 -0.036126\n",
       "2019-01-27  1.015140  0.295070 -0.601536  2.573313"
      ]
     },
     "execution_count": 10,
     "metadata": {},
     "output_type": "execute_result"
    }
   ],
   "source": [
    "# 정렬 - 행의 인덱스 기준 , 오름차순\n",
    "df1.sort_index(axis=0)"
   ]
  },
  {
   "cell_type": "code",
   "execution_count": 11,
   "metadata": {},
   "outputs": [
    {
     "data": {
      "text/html": [
       "<div>\n",
       "<style scoped>\n",
       "    .dataframe tbody tr th:only-of-type {\n",
       "        vertical-align: middle;\n",
       "    }\n",
       "\n",
       "    .dataframe tbody tr th {\n",
       "        vertical-align: top;\n",
       "    }\n",
       "\n",
       "    .dataframe thead th {\n",
       "        text-align: right;\n",
       "    }\n",
       "</style>\n",
       "<table border=\"1\" class=\"dataframe\">\n",
       "  <thead>\n",
       "    <tr style=\"text-align: right;\">\n",
       "      <th></th>\n",
       "      <th>B</th>\n",
       "      <th>A</th>\n",
       "      <th>D</th>\n",
       "      <th>C</th>\n",
       "    </tr>\n",
       "  </thead>\n",
       "  <tbody>\n",
       "    <tr>\n",
       "      <th>2019-01-27</th>\n",
       "      <td>1.015140</td>\n",
       "      <td>0.295070</td>\n",
       "      <td>-0.601536</td>\n",
       "      <td>2.573313</td>\n",
       "    </tr>\n",
       "    <tr>\n",
       "      <th>2019-01-26</th>\n",
       "      <td>0.514102</td>\n",
       "      <td>-0.653295</td>\n",
       "      <td>0.515434</td>\n",
       "      <td>-0.036126</td>\n",
       "    </tr>\n",
       "    <tr>\n",
       "      <th>2019-01-25</th>\n",
       "      <td>-0.560500</td>\n",
       "      <td>-0.301447</td>\n",
       "      <td>-1.200178</td>\n",
       "      <td>-0.170648</td>\n",
       "    </tr>\n",
       "    <tr>\n",
       "      <th>2019-01-24</th>\n",
       "      <td>1.360085</td>\n",
       "      <td>1.068031</td>\n",
       "      <td>-2.126135</td>\n",
       "      <td>0.860304</td>\n",
       "    </tr>\n",
       "    <tr>\n",
       "      <th>2019-01-23</th>\n",
       "      <td>-1.128085</td>\n",
       "      <td>1.526508</td>\n",
       "      <td>-1.344771</td>\n",
       "      <td>-0.209764</td>\n",
       "    </tr>\n",
       "    <tr>\n",
       "      <th>2019-01-22</th>\n",
       "      <td>-1.175670</td>\n",
       "      <td>0.323895</td>\n",
       "      <td>0.809912</td>\n",
       "      <td>-0.020651</td>\n",
       "    </tr>\n",
       "  </tbody>\n",
       "</table>\n",
       "</div>"
      ],
      "text/plain": [
       "                   B         A         D         C\n",
       "2019-01-27  1.015140  0.295070 -0.601536  2.573313\n",
       "2019-01-26  0.514102 -0.653295  0.515434 -0.036126\n",
       "2019-01-25 -0.560500 -0.301447 -1.200178 -0.170648\n",
       "2019-01-24  1.360085  1.068031 -2.126135  0.860304\n",
       "2019-01-23 -1.128085  1.526508 -1.344771 -0.209764\n",
       "2019-01-22 -1.175670  0.323895  0.809912 -0.020651"
      ]
     },
     "execution_count": 11,
     "metadata": {},
     "output_type": "execute_result"
    }
   ],
   "source": [
    "# 정렬 - 행의 인덱스 기준 , 내림차순\n",
    "df1.sort_index(axis=0, ascending=False)"
   ]
  },
  {
   "cell_type": "code",
   "execution_count": 12,
   "metadata": {},
   "outputs": [
    {
     "data": {
      "text/html": [
       "<div>\n",
       "<style scoped>\n",
       "    .dataframe tbody tr th:only-of-type {\n",
       "        vertical-align: middle;\n",
       "    }\n",
       "\n",
       "    .dataframe tbody tr th {\n",
       "        vertical-align: top;\n",
       "    }\n",
       "\n",
       "    .dataframe thead th {\n",
       "        text-align: right;\n",
       "    }\n",
       "</style>\n",
       "<table border=\"1\" class=\"dataframe\">\n",
       "  <thead>\n",
       "    <tr style=\"text-align: right;\">\n",
       "      <th></th>\n",
       "      <th>D</th>\n",
       "      <th>C</th>\n",
       "      <th>B</th>\n",
       "      <th>A</th>\n",
       "    </tr>\n",
       "  </thead>\n",
       "  <tbody>\n",
       "    <tr>\n",
       "      <th>2019-01-27</th>\n",
       "      <td>-0.601536</td>\n",
       "      <td>2.573313</td>\n",
       "      <td>1.015140</td>\n",
       "      <td>0.295070</td>\n",
       "    </tr>\n",
       "    <tr>\n",
       "      <th>2019-01-25</th>\n",
       "      <td>-1.200178</td>\n",
       "      <td>-0.170648</td>\n",
       "      <td>-0.560500</td>\n",
       "      <td>-0.301447</td>\n",
       "    </tr>\n",
       "    <tr>\n",
       "      <th>2019-01-23</th>\n",
       "      <td>-1.344771</td>\n",
       "      <td>-0.209764</td>\n",
       "      <td>-1.128085</td>\n",
       "      <td>1.526508</td>\n",
       "    </tr>\n",
       "    <tr>\n",
       "      <th>2019-01-22</th>\n",
       "      <td>0.809912</td>\n",
       "      <td>-0.020651</td>\n",
       "      <td>-1.175670</td>\n",
       "      <td>0.323895</td>\n",
       "    </tr>\n",
       "    <tr>\n",
       "      <th>2019-01-24</th>\n",
       "      <td>-2.126135</td>\n",
       "      <td>0.860304</td>\n",
       "      <td>1.360085</td>\n",
       "      <td>1.068031</td>\n",
       "    </tr>\n",
       "    <tr>\n",
       "      <th>2019-01-26</th>\n",
       "      <td>0.515434</td>\n",
       "      <td>-0.036126</td>\n",
       "      <td>0.514102</td>\n",
       "      <td>-0.653295</td>\n",
       "    </tr>\n",
       "  </tbody>\n",
       "</table>\n",
       "</div>"
      ],
      "text/plain": [
       "                   D         C         B         A\n",
       "2019-01-27 -0.601536  2.573313  1.015140  0.295070\n",
       "2019-01-25 -1.200178 -0.170648 -0.560500 -0.301447\n",
       "2019-01-23 -1.344771 -0.209764 -1.128085  1.526508\n",
       "2019-01-22  0.809912 -0.020651 -1.175670  0.323895\n",
       "2019-01-24 -2.126135  0.860304  1.360085  1.068031\n",
       "2019-01-26  0.515434 -0.036126  0.514102 -0.653295"
      ]
     },
     "execution_count": 12,
     "metadata": {},
     "output_type": "execute_result"
    }
   ],
   "source": [
    "# 정렬 - 열의 인덱스 기준 , 내림차순\n",
    "df1.sort_index(axis=1, ascending=False)"
   ]
  },
  {
   "cell_type": "code",
   "execution_count": 13,
   "metadata": {},
   "outputs": [
    {
     "data": {
      "text/html": [
       "<div>\n",
       "<style scoped>\n",
       "    .dataframe tbody tr th:only-of-type {\n",
       "        vertical-align: middle;\n",
       "    }\n",
       "\n",
       "    .dataframe tbody tr th {\n",
       "        vertical-align: top;\n",
       "    }\n",
       "\n",
       "    .dataframe thead th {\n",
       "        text-align: right;\n",
       "    }\n",
       "</style>\n",
       "<table border=\"1\" class=\"dataframe\">\n",
       "  <thead>\n",
       "    <tr style=\"text-align: right;\">\n",
       "      <th></th>\n",
       "      <th>A</th>\n",
       "      <th>B</th>\n",
       "      <th>C</th>\n",
       "      <th>D</th>\n",
       "    </tr>\n",
       "  </thead>\n",
       "  <tbody>\n",
       "    <tr>\n",
       "      <th>2019-01-27</th>\n",
       "      <td>0.295070</td>\n",
       "      <td>1.015140</td>\n",
       "      <td>2.573313</td>\n",
       "      <td>-0.601536</td>\n",
       "    </tr>\n",
       "    <tr>\n",
       "      <th>2019-01-25</th>\n",
       "      <td>-0.301447</td>\n",
       "      <td>-0.560500</td>\n",
       "      <td>-0.170648</td>\n",
       "      <td>-1.200178</td>\n",
       "    </tr>\n",
       "    <tr>\n",
       "      <th>2019-01-23</th>\n",
       "      <td>1.526508</td>\n",
       "      <td>-1.128085</td>\n",
       "      <td>-0.209764</td>\n",
       "      <td>-1.344771</td>\n",
       "    </tr>\n",
       "    <tr>\n",
       "      <th>2019-01-22</th>\n",
       "      <td>0.323895</td>\n",
       "      <td>-1.175670</td>\n",
       "      <td>-0.020651</td>\n",
       "      <td>0.809912</td>\n",
       "    </tr>\n",
       "    <tr>\n",
       "      <th>2019-01-24</th>\n",
       "      <td>1.068031</td>\n",
       "      <td>1.360085</td>\n",
       "      <td>0.860304</td>\n",
       "      <td>-2.126135</td>\n",
       "    </tr>\n",
       "    <tr>\n",
       "      <th>2019-01-26</th>\n",
       "      <td>-0.653295</td>\n",
       "      <td>0.514102</td>\n",
       "      <td>-0.036126</td>\n",
       "      <td>0.515434</td>\n",
       "    </tr>\n",
       "  </tbody>\n",
       "</table>\n",
       "</div>"
      ],
      "text/plain": [
       "                   A         B         C         D\n",
       "2019-01-27  0.295070  1.015140  2.573313 -0.601536\n",
       "2019-01-25 -0.301447 -0.560500 -0.170648 -1.200178\n",
       "2019-01-23  1.526508 -1.128085 -0.209764 -1.344771\n",
       "2019-01-22  0.323895 -1.175670 -0.020651  0.809912\n",
       "2019-01-24  1.068031  1.360085  0.860304 -2.126135\n",
       "2019-01-26 -0.653295  0.514102 -0.036126  0.515434"
      ]
     },
     "execution_count": 13,
     "metadata": {},
     "output_type": "execute_result"
    }
   ],
   "source": [
    "# 정렬 - 열의 인덱스 기준 , 오름차순\n",
    "df1.sort_index(axis=1)"
   ]
  },
  {
   "cell_type": "markdown",
   "metadata": {},
   "source": [
    "## 값 기준으로 정렬하기\n",
    "\n",
    "- 데이타프레임이름. sort_values(by=\"컬럼명\")"
   ]
  },
  {
   "cell_type": "code",
   "execution_count": 14,
   "metadata": {},
   "outputs": [
    {
     "data": {
      "text/html": [
       "<div>\n",
       "<style scoped>\n",
       "    .dataframe tbody tr th:only-of-type {\n",
       "        vertical-align: middle;\n",
       "    }\n",
       "\n",
       "    .dataframe tbody tr th {\n",
       "        vertical-align: top;\n",
       "    }\n",
       "\n",
       "    .dataframe thead th {\n",
       "        text-align: right;\n",
       "    }\n",
       "</style>\n",
       "<table border=\"1\" class=\"dataframe\">\n",
       "  <thead>\n",
       "    <tr style=\"text-align: right;\">\n",
       "      <th></th>\n",
       "      <th>B</th>\n",
       "      <th>A</th>\n",
       "      <th>D</th>\n",
       "      <th>C</th>\n",
       "    </tr>\n",
       "  </thead>\n",
       "  <tbody>\n",
       "    <tr>\n",
       "      <th>2019-01-27</th>\n",
       "      <td>1.015140</td>\n",
       "      <td>0.295070</td>\n",
       "      <td>-0.601536</td>\n",
       "      <td>2.573313</td>\n",
       "    </tr>\n",
       "    <tr>\n",
       "      <th>2019-01-25</th>\n",
       "      <td>-0.560500</td>\n",
       "      <td>-0.301447</td>\n",
       "      <td>-1.200178</td>\n",
       "      <td>-0.170648</td>\n",
       "    </tr>\n",
       "    <tr>\n",
       "      <th>2019-01-23</th>\n",
       "      <td>-1.128085</td>\n",
       "      <td>1.526508</td>\n",
       "      <td>-1.344771</td>\n",
       "      <td>-0.209764</td>\n",
       "    </tr>\n",
       "    <tr>\n",
       "      <th>2019-01-22</th>\n",
       "      <td>-1.175670</td>\n",
       "      <td>0.323895</td>\n",
       "      <td>0.809912</td>\n",
       "      <td>-0.020651</td>\n",
       "    </tr>\n",
       "    <tr>\n",
       "      <th>2019-01-24</th>\n",
       "      <td>1.360085</td>\n",
       "      <td>1.068031</td>\n",
       "      <td>-2.126135</td>\n",
       "      <td>0.860304</td>\n",
       "    </tr>\n",
       "    <tr>\n",
       "      <th>2019-01-26</th>\n",
       "      <td>0.514102</td>\n",
       "      <td>-0.653295</td>\n",
       "      <td>0.515434</td>\n",
       "      <td>-0.036126</td>\n",
       "    </tr>\n",
       "  </tbody>\n",
       "</table>\n",
       "</div>"
      ],
      "text/plain": [
       "                   B         A         D         C\n",
       "2019-01-27  1.015140  0.295070 -0.601536  2.573313\n",
       "2019-01-25 -0.560500 -0.301447 -1.200178 -0.170648\n",
       "2019-01-23 -1.128085  1.526508 -1.344771 -0.209764\n",
       "2019-01-22 -1.175670  0.323895  0.809912 -0.020651\n",
       "2019-01-24  1.360085  1.068031 -2.126135  0.860304\n",
       "2019-01-26  0.514102 -0.653295  0.515434 -0.036126"
      ]
     },
     "execution_count": 14,
     "metadata": {},
     "output_type": "execute_result"
    }
   ],
   "source": [
    "df1"
   ]
  },
  {
   "cell_type": "code",
   "execution_count": 15,
   "metadata": {},
   "outputs": [
    {
     "data": {
      "text/html": [
       "<div>\n",
       "<style scoped>\n",
       "    .dataframe tbody tr th:only-of-type {\n",
       "        vertical-align: middle;\n",
       "    }\n",
       "\n",
       "    .dataframe tbody tr th {\n",
       "        vertical-align: top;\n",
       "    }\n",
       "\n",
       "    .dataframe thead th {\n",
       "        text-align: right;\n",
       "    }\n",
       "</style>\n",
       "<table border=\"1\" class=\"dataframe\">\n",
       "  <thead>\n",
       "    <tr style=\"text-align: right;\">\n",
       "      <th></th>\n",
       "      <th>B</th>\n",
       "      <th>A</th>\n",
       "      <th>D</th>\n",
       "      <th>C</th>\n",
       "    </tr>\n",
       "  </thead>\n",
       "  <tbody>\n",
       "    <tr>\n",
       "      <th>2019-01-22</th>\n",
       "      <td>-1.175670</td>\n",
       "      <td>0.323895</td>\n",
       "      <td>0.809912</td>\n",
       "      <td>-0.020651</td>\n",
       "    </tr>\n",
       "    <tr>\n",
       "      <th>2019-01-23</th>\n",
       "      <td>-1.128085</td>\n",
       "      <td>1.526508</td>\n",
       "      <td>-1.344771</td>\n",
       "      <td>-0.209764</td>\n",
       "    </tr>\n",
       "    <tr>\n",
       "      <th>2019-01-25</th>\n",
       "      <td>-0.560500</td>\n",
       "      <td>-0.301447</td>\n",
       "      <td>-1.200178</td>\n",
       "      <td>-0.170648</td>\n",
       "    </tr>\n",
       "    <tr>\n",
       "      <th>2019-01-26</th>\n",
       "      <td>0.514102</td>\n",
       "      <td>-0.653295</td>\n",
       "      <td>0.515434</td>\n",
       "      <td>-0.036126</td>\n",
       "    </tr>\n",
       "    <tr>\n",
       "      <th>2019-01-27</th>\n",
       "      <td>1.015140</td>\n",
       "      <td>0.295070</td>\n",
       "      <td>-0.601536</td>\n",
       "      <td>2.573313</td>\n",
       "    </tr>\n",
       "    <tr>\n",
       "      <th>2019-01-24</th>\n",
       "      <td>1.360085</td>\n",
       "      <td>1.068031</td>\n",
       "      <td>-2.126135</td>\n",
       "      <td>0.860304</td>\n",
       "    </tr>\n",
       "  </tbody>\n",
       "</table>\n",
       "</div>"
      ],
      "text/plain": [
       "                   B         A         D         C\n",
       "2019-01-22 -1.175670  0.323895  0.809912 -0.020651\n",
       "2019-01-23 -1.128085  1.526508 -1.344771 -0.209764\n",
       "2019-01-25 -0.560500 -0.301447 -1.200178 -0.170648\n",
       "2019-01-26  0.514102 -0.653295  0.515434 -0.036126\n",
       "2019-01-27  1.015140  0.295070 -0.601536  2.573313\n",
       "2019-01-24  1.360085  1.068031 -2.126135  0.860304"
      ]
     },
     "execution_count": 15,
     "metadata": {},
     "output_type": "execute_result"
    }
   ],
   "source": [
    "result = df1.sort_values(by='B')\n",
    "result "
   ]
  },
  {
   "cell_type": "code",
   "execution_count": 16,
   "metadata": {},
   "outputs": [
    {
     "data": {
      "text/plain": [
       "2019-01-22   -1.175670\n",
       "2019-01-23   -1.128085\n",
       "2019-01-25   -0.560500\n",
       "2019-01-26    0.514102\n",
       "2019-01-27    1.015140\n",
       "2019-01-24    1.360085\n",
       "Name: B, dtype: float64"
      ]
     },
     "execution_count": 16,
     "metadata": {},
     "output_type": "execute_result"
    }
   ],
   "source": [
    "# Series 로 추출 \n",
    "result.B"
   ]
  },
  {
   "cell_type": "markdown",
   "metadata": {},
   "source": [
    "## 중복 제거하기\n",
    "\n",
    "- 데이타이름[열이름].unique()"
   ]
  },
  {
   "cell_type": "code",
   "execution_count": 17,
   "metadata": {},
   "outputs": [
    {
     "data": {
      "text/html": [
       "<div>\n",
       "<style scoped>\n",
       "    .dataframe tbody tr th:only-of-type {\n",
       "        vertical-align: middle;\n",
       "    }\n",
       "\n",
       "    .dataframe tbody tr th {\n",
       "        vertical-align: top;\n",
       "    }\n",
       "\n",
       "    .dataframe thead th {\n",
       "        text-align: right;\n",
       "    }\n",
       "</style>\n",
       "<table border=\"1\" class=\"dataframe\">\n",
       "  <thead>\n",
       "    <tr style=\"text-align: right;\">\n",
       "      <th></th>\n",
       "      <th>B</th>\n",
       "      <th>A</th>\n",
       "      <th>D</th>\n",
       "      <th>C</th>\n",
       "    </tr>\n",
       "  </thead>\n",
       "  <tbody>\n",
       "    <tr>\n",
       "      <th>2019-01-27</th>\n",
       "      <td>1.015140</td>\n",
       "      <td>0.295070</td>\n",
       "      <td>-0.601536</td>\n",
       "      <td>2.573313</td>\n",
       "    </tr>\n",
       "    <tr>\n",
       "      <th>2019-01-25</th>\n",
       "      <td>-0.560500</td>\n",
       "      <td>-0.301447</td>\n",
       "      <td>-1.200178</td>\n",
       "      <td>-0.170648</td>\n",
       "    </tr>\n",
       "    <tr>\n",
       "      <th>2019-01-23</th>\n",
       "      <td>-1.128085</td>\n",
       "      <td>1.526508</td>\n",
       "      <td>-1.344771</td>\n",
       "      <td>-0.209764</td>\n",
       "    </tr>\n",
       "    <tr>\n",
       "      <th>2019-01-22</th>\n",
       "      <td>-1.175670</td>\n",
       "      <td>0.323895</td>\n",
       "      <td>0.809912</td>\n",
       "      <td>-0.020651</td>\n",
       "    </tr>\n",
       "    <tr>\n",
       "      <th>2019-01-24</th>\n",
       "      <td>1.360085</td>\n",
       "      <td>1.068031</td>\n",
       "      <td>-2.126135</td>\n",
       "      <td>0.860304</td>\n",
       "    </tr>\n",
       "    <tr>\n",
       "      <th>2019-01-26</th>\n",
       "      <td>0.514102</td>\n",
       "      <td>-0.653295</td>\n",
       "      <td>0.515434</td>\n",
       "      <td>-0.036126</td>\n",
       "    </tr>\n",
       "  </tbody>\n",
       "</table>\n",
       "</div>"
      ],
      "text/plain": [
       "                   B         A         D         C\n",
       "2019-01-27  1.015140  0.295070 -0.601536  2.573313\n",
       "2019-01-25 -0.560500 -0.301447 -1.200178 -0.170648\n",
       "2019-01-23 -1.128085  1.526508 -1.344771 -0.209764\n",
       "2019-01-22 -1.175670  0.323895  0.809912 -0.020651\n",
       "2019-01-24  1.360085  1.068031 -2.126135  0.860304\n",
       "2019-01-26  0.514102 -0.653295  0.515434 -0.036126"
      ]
     },
     "execution_count": 17,
     "metadata": {},
     "output_type": "execute_result"
    }
   ],
   "source": [
    "df1"
   ]
  },
  {
   "cell_type": "code",
   "execution_count": 18,
   "metadata": {},
   "outputs": [
    {
     "data": {
      "text/html": [
       "<div>\n",
       "<style scoped>\n",
       "    .dataframe tbody tr th:only-of-type {\n",
       "        vertical-align: middle;\n",
       "    }\n",
       "\n",
       "    .dataframe tbody tr th {\n",
       "        vertical-align: top;\n",
       "    }\n",
       "\n",
       "    .dataframe thead th {\n",
       "        text-align: right;\n",
       "    }\n",
       "</style>\n",
       "<table border=\"1\" class=\"dataframe\">\n",
       "  <thead>\n",
       "    <tr style=\"text-align: right;\">\n",
       "      <th></th>\n",
       "      <th>B</th>\n",
       "      <th>A</th>\n",
       "      <th>D</th>\n",
       "      <th>C</th>\n",
       "      <th>E</th>\n",
       "      <th>F</th>\n",
       "    </tr>\n",
       "  </thead>\n",
       "  <tbody>\n",
       "    <tr>\n",
       "      <th>2019-01-27</th>\n",
       "      <td>1.015140</td>\n",
       "      <td>0.295070</td>\n",
       "      <td>-0.601536</td>\n",
       "      <td>2.573313</td>\n",
       "      <td>1</td>\n",
       "      <td>alpha</td>\n",
       "    </tr>\n",
       "    <tr>\n",
       "      <th>2019-01-25</th>\n",
       "      <td>-0.560500</td>\n",
       "      <td>-0.301447</td>\n",
       "      <td>-1.200178</td>\n",
       "      <td>-0.170648</td>\n",
       "      <td>4</td>\n",
       "      <td>beta</td>\n",
       "    </tr>\n",
       "    <tr>\n",
       "      <th>2019-01-23</th>\n",
       "      <td>-1.128085</td>\n",
       "      <td>1.526508</td>\n",
       "      <td>-1.344771</td>\n",
       "      <td>-0.209764</td>\n",
       "      <td>5</td>\n",
       "      <td>gamma</td>\n",
       "    </tr>\n",
       "    <tr>\n",
       "      <th>2019-01-22</th>\n",
       "      <td>-1.175670</td>\n",
       "      <td>0.323895</td>\n",
       "      <td>0.809912</td>\n",
       "      <td>-0.020651</td>\n",
       "      <td>5</td>\n",
       "      <td>gamma</td>\n",
       "    </tr>\n",
       "    <tr>\n",
       "      <th>2019-01-24</th>\n",
       "      <td>1.360085</td>\n",
       "      <td>1.068031</td>\n",
       "      <td>-2.126135</td>\n",
       "      <td>0.860304</td>\n",
       "      <td>3</td>\n",
       "      <td>alpha</td>\n",
       "    </tr>\n",
       "    <tr>\n",
       "      <th>2019-01-26</th>\n",
       "      <td>0.514102</td>\n",
       "      <td>-0.653295</td>\n",
       "      <td>0.515434</td>\n",
       "      <td>-0.036126</td>\n",
       "      <td>4</td>\n",
       "      <td>gamma</td>\n",
       "    </tr>\n",
       "  </tbody>\n",
       "</table>\n",
       "</div>"
      ],
      "text/plain": [
       "                   B         A         D         C  E      F\n",
       "2019-01-27  1.015140  0.295070 -0.601536  2.573313  1  alpha\n",
       "2019-01-25 -0.560500 -0.301447 -1.200178 -0.170648  4   beta\n",
       "2019-01-23 -1.128085  1.526508 -1.344771 -0.209764  5  gamma\n",
       "2019-01-22 -1.175670  0.323895  0.809912 -0.020651  5  gamma\n",
       "2019-01-24  1.360085  1.068031 -2.126135  0.860304  3  alpha\n",
       "2019-01-26  0.514102 -0.653295  0.515434 -0.036126  4  gamma"
      ]
     },
     "execution_count": 18,
     "metadata": {},
     "output_type": "execute_result"
    }
   ],
   "source": [
    "# 컬럼 추가 \n",
    "# 2개의 새로운 컬럼 추가 \n",
    "df1[\"E\"] = [1,4,5,5,3,4]\n",
    "df1[\"F\"] = [\"alpha\", \"beta\", \"gamma\", \"gamma\", \"alpha\", \"gamma\"]\n",
    "df1"
   ]
  },
  {
   "cell_type": "code",
   "execution_count": 19,
   "metadata": {},
   "outputs": [
    {
     "data": {
      "text/plain": [
       "array([1, 4, 5, 3], dtype=int64)"
      ]
     },
     "execution_count": 19,
     "metadata": {},
     "output_type": "execute_result"
    }
   ],
   "source": [
    "df1['E'].unique()"
   ]
  },
  {
   "cell_type": "code",
   "execution_count": 20,
   "metadata": {},
   "outputs": [
    {
     "data": {
      "text/plain": [
       "array(['alpha', 'beta', 'gamma'], dtype=object)"
      ]
     },
     "execution_count": 20,
     "metadata": {},
     "output_type": "execute_result"
    }
   ],
   "source": [
    "df1['F'].unique()"
   ]
  },
  {
   "cell_type": "markdown",
   "metadata": {},
   "source": [
    "## 특정값의 카운트\n",
    "\n",
    "- 데이터프레임이름[열이름].value_counts()"
   ]
  },
  {
   "cell_type": "code",
   "execution_count": 22,
   "metadata": {},
   "outputs": [
    {
     "data": {
      "text/html": [
       "<div>\n",
       "<style scoped>\n",
       "    .dataframe tbody tr th:only-of-type {\n",
       "        vertical-align: middle;\n",
       "    }\n",
       "\n",
       "    .dataframe tbody tr th {\n",
       "        vertical-align: top;\n",
       "    }\n",
       "\n",
       "    .dataframe thead th {\n",
       "        text-align: right;\n",
       "    }\n",
       "</style>\n",
       "<table border=\"1\" class=\"dataframe\">\n",
       "  <thead>\n",
       "    <tr style=\"text-align: right;\">\n",
       "      <th></th>\n",
       "      <th>A</th>\n",
       "      <th>B</th>\n",
       "      <th>C</th>\n",
       "      <th>D</th>\n",
       "      <th>E</th>\n",
       "    </tr>\n",
       "  </thead>\n",
       "  <tbody>\n",
       "    <tr>\n",
       "      <th>2019-01-22</th>\n",
       "      <td>-0.439609</td>\n",
       "      <td>-1.295780</td>\n",
       "      <td>-1.933554</td>\n",
       "      <td>-2.072110</td>\n",
       "      <td>alpha</td>\n",
       "    </tr>\n",
       "    <tr>\n",
       "      <th>2019-01-23</th>\n",
       "      <td>0.331972</td>\n",
       "      <td>-0.503803</td>\n",
       "      <td>-1.141856</td>\n",
       "      <td>1.072359</td>\n",
       "      <td>beta</td>\n",
       "    </tr>\n",
       "    <tr>\n",
       "      <th>2019-01-24</th>\n",
       "      <td>0.770495</td>\n",
       "      <td>-0.040537</td>\n",
       "      <td>2.093645</td>\n",
       "      <td>-0.290191</td>\n",
       "      <td>gamma</td>\n",
       "    </tr>\n",
       "    <tr>\n",
       "      <th>2019-01-25</th>\n",
       "      <td>-0.107315</td>\n",
       "      <td>-0.605409</td>\n",
       "      <td>1.156788</td>\n",
       "      <td>-0.048187</td>\n",
       "      <td>gamma</td>\n",
       "    </tr>\n",
       "    <tr>\n",
       "      <th>2019-01-26</th>\n",
       "      <td>0.684003</td>\n",
       "      <td>-1.100495</td>\n",
       "      <td>-1.424707</td>\n",
       "      <td>-0.137961</td>\n",
       "      <td>alpha</td>\n",
       "    </tr>\n",
       "    <tr>\n",
       "      <th>2019-01-27</th>\n",
       "      <td>0.760755</td>\n",
       "      <td>-0.215820</td>\n",
       "      <td>0.284192</td>\n",
       "      <td>-1.746338</td>\n",
       "      <td>gamma</td>\n",
       "    </tr>\n",
       "  </tbody>\n",
       "</table>\n",
       "</div>"
      ],
      "text/plain": [
       "                   A         B         C         D      E\n",
       "2019-01-22 -0.439609 -1.295780 -1.933554 -2.072110  alpha\n",
       "2019-01-23  0.331972 -0.503803 -1.141856  1.072359   beta\n",
       "2019-01-24  0.770495 -0.040537  2.093645 -0.290191  gamma\n",
       "2019-01-25 -0.107315 -0.605409  1.156788 -0.048187  gamma\n",
       "2019-01-26  0.684003 -1.100495 -1.424707 -0.137961  alpha\n",
       "2019-01-27  0.760755 -0.215820  0.284192 -1.746338  gamma"
      ]
     },
     "execution_count": 22,
     "metadata": {},
     "output_type": "execute_result"
    }
   ],
   "source": [
    "df2 = pd.DataFrame(np.random.randn(6,4), \n",
    "                   columns = ['A','B','C','D'],\n",
    "                   index = pd.date_range('20190122', periods=6))\n",
    "df2[\"E\"] = [\"alpha\", \"beta\", \"gamma\", \"gamma\", \"alpha\", \"gamma\"]\n",
    "df2"
   ]
  },
  {
   "cell_type": "code",
   "execution_count": 23,
   "metadata": {},
   "outputs": [
    {
     "data": {
      "text/plain": [
       "gamma    3\n",
       "alpha    2\n",
       "beta     1\n",
       "Name: E, dtype: int64"
      ]
     },
     "execution_count": 23,
     "metadata": {},
     "output_type": "execute_result"
    }
   ],
   "source": [
    "df2['E'].value_counts()"
   ]
  },
  {
   "cell_type": "code",
   "execution_count": 24,
   "metadata": {},
   "outputs": [
    {
     "data": {
      "text/plain": [
       " 0.684003    1\n",
       "-0.439609    1\n",
       "-0.107315    1\n",
       " 0.331972    1\n",
       " 0.770495    1\n",
       " 0.760755    1\n",
       "Name: A, dtype: int64"
      ]
     },
     "execution_count": 24,
     "metadata": {},
     "output_type": "execute_result"
    }
   ],
   "source": [
    "df2['A'].value_counts()"
   ]
  },
  {
   "cell_type": "markdown",
   "metadata": {},
   "source": [
    "## isin() 함수 이용하기\n",
    "\n",
    "- 데이타프레임이름.isin([데이터값1, 데이터값2])\n",
    "- 데이타프레임이름[컬럼명].isin([데이터값1, 데이터값2])\n",
    "- 데이터값이 있는지 확인 , True, False"
   ]
  },
  {
   "cell_type": "code",
   "execution_count": 25,
   "metadata": {},
   "outputs": [
    {
     "data": {
      "text/html": [
       "<div>\n",
       "<style scoped>\n",
       "    .dataframe tbody tr th:only-of-type {\n",
       "        vertical-align: middle;\n",
       "    }\n",
       "\n",
       "    .dataframe tbody tr th {\n",
       "        vertical-align: top;\n",
       "    }\n",
       "\n",
       "    .dataframe thead th {\n",
       "        text-align: right;\n",
       "    }\n",
       "</style>\n",
       "<table border=\"1\" class=\"dataframe\">\n",
       "  <thead>\n",
       "    <tr style=\"text-align: right;\">\n",
       "      <th></th>\n",
       "      <th>A</th>\n",
       "      <th>B</th>\n",
       "      <th>C</th>\n",
       "      <th>D</th>\n",
       "      <th>E</th>\n",
       "    </tr>\n",
       "  </thead>\n",
       "  <tbody>\n",
       "    <tr>\n",
       "      <th>2019-01-22</th>\n",
       "      <td>-0.439609</td>\n",
       "      <td>-1.295780</td>\n",
       "      <td>-1.933554</td>\n",
       "      <td>-2.072110</td>\n",
       "      <td>alpha</td>\n",
       "    </tr>\n",
       "    <tr>\n",
       "      <th>2019-01-23</th>\n",
       "      <td>0.331972</td>\n",
       "      <td>-0.503803</td>\n",
       "      <td>-1.141856</td>\n",
       "      <td>1.072359</td>\n",
       "      <td>beta</td>\n",
       "    </tr>\n",
       "    <tr>\n",
       "      <th>2019-01-24</th>\n",
       "      <td>0.770495</td>\n",
       "      <td>-0.040537</td>\n",
       "      <td>2.093645</td>\n",
       "      <td>-0.290191</td>\n",
       "      <td>gamma</td>\n",
       "    </tr>\n",
       "    <tr>\n",
       "      <th>2019-01-25</th>\n",
       "      <td>-0.107315</td>\n",
       "      <td>-0.605409</td>\n",
       "      <td>1.156788</td>\n",
       "      <td>-0.048187</td>\n",
       "      <td>gamma</td>\n",
       "    </tr>\n",
       "    <tr>\n",
       "      <th>2019-01-26</th>\n",
       "      <td>0.684003</td>\n",
       "      <td>-1.100495</td>\n",
       "      <td>-1.424707</td>\n",
       "      <td>-0.137961</td>\n",
       "      <td>alpha</td>\n",
       "    </tr>\n",
       "    <tr>\n",
       "      <th>2019-01-27</th>\n",
       "      <td>0.760755</td>\n",
       "      <td>-0.215820</td>\n",
       "      <td>0.284192</td>\n",
       "      <td>-1.746338</td>\n",
       "      <td>gamma</td>\n",
       "    </tr>\n",
       "  </tbody>\n",
       "</table>\n",
       "</div>"
      ],
      "text/plain": [
       "                   A         B         C         D      E\n",
       "2019-01-22 -0.439609 -1.295780 -1.933554 -2.072110  alpha\n",
       "2019-01-23  0.331972 -0.503803 -1.141856  1.072359   beta\n",
       "2019-01-24  0.770495 -0.040537  2.093645 -0.290191  gamma\n",
       "2019-01-25 -0.107315 -0.605409  1.156788 -0.048187  gamma\n",
       "2019-01-26  0.684003 -1.100495 -1.424707 -0.137961  alpha\n",
       "2019-01-27  0.760755 -0.215820  0.284192 -1.746338  gamma"
      ]
     },
     "execution_count": 25,
     "metadata": {},
     "output_type": "execute_result"
    }
   ],
   "source": [
    "df2"
   ]
  },
  {
   "cell_type": "code",
   "execution_count": 26,
   "metadata": {},
   "outputs": [
    {
     "data": {
      "text/html": [
       "<div>\n",
       "<style scoped>\n",
       "    .dataframe tbody tr th:only-of-type {\n",
       "        vertical-align: middle;\n",
       "    }\n",
       "\n",
       "    .dataframe tbody tr th {\n",
       "        vertical-align: top;\n",
       "    }\n",
       "\n",
       "    .dataframe thead th {\n",
       "        text-align: right;\n",
       "    }\n",
       "</style>\n",
       "<table border=\"1\" class=\"dataframe\">\n",
       "  <thead>\n",
       "    <tr style=\"text-align: right;\">\n",
       "      <th></th>\n",
       "      <th>A</th>\n",
       "      <th>B</th>\n",
       "      <th>C</th>\n",
       "      <th>D</th>\n",
       "      <th>E</th>\n",
       "    </tr>\n",
       "  </thead>\n",
       "  <tbody>\n",
       "    <tr>\n",
       "      <th>2019-01-22</th>\n",
       "      <td>False</td>\n",
       "      <td>False</td>\n",
       "      <td>False</td>\n",
       "      <td>False</td>\n",
       "      <td>True</td>\n",
       "    </tr>\n",
       "    <tr>\n",
       "      <th>2019-01-23</th>\n",
       "      <td>False</td>\n",
       "      <td>False</td>\n",
       "      <td>False</td>\n",
       "      <td>False</td>\n",
       "      <td>False</td>\n",
       "    </tr>\n",
       "    <tr>\n",
       "      <th>2019-01-24</th>\n",
       "      <td>False</td>\n",
       "      <td>False</td>\n",
       "      <td>False</td>\n",
       "      <td>False</td>\n",
       "      <td>False</td>\n",
       "    </tr>\n",
       "    <tr>\n",
       "      <th>2019-01-25</th>\n",
       "      <td>False</td>\n",
       "      <td>False</td>\n",
       "      <td>False</td>\n",
       "      <td>False</td>\n",
       "      <td>False</td>\n",
       "    </tr>\n",
       "    <tr>\n",
       "      <th>2019-01-26</th>\n",
       "      <td>False</td>\n",
       "      <td>False</td>\n",
       "      <td>False</td>\n",
       "      <td>False</td>\n",
       "      <td>True</td>\n",
       "    </tr>\n",
       "    <tr>\n",
       "      <th>2019-01-27</th>\n",
       "      <td>False</td>\n",
       "      <td>False</td>\n",
       "      <td>False</td>\n",
       "      <td>False</td>\n",
       "      <td>False</td>\n",
       "    </tr>\n",
       "  </tbody>\n",
       "</table>\n",
       "</div>"
      ],
      "text/plain": [
       "                A      B      C      D      E\n",
       "2019-01-22  False  False  False  False   True\n",
       "2019-01-23  False  False  False  False  False\n",
       "2019-01-24  False  False  False  False  False\n",
       "2019-01-25  False  False  False  False  False\n",
       "2019-01-26  False  False  False  False   True\n",
       "2019-01-27  False  False  False  False  False"
      ]
     },
     "execution_count": 26,
     "metadata": {},
     "output_type": "execute_result"
    }
   ],
   "source": [
    "# 'alpha' 값이 있는 데이타 부분은 True 로 출력 \n",
    "df2.isin(['alpha'])"
   ]
  },
  {
   "cell_type": "code",
   "execution_count": 27,
   "metadata": {},
   "outputs": [
    {
     "data": {
      "text/plain": [
       "2019-01-22     True\n",
       "2019-01-23    False\n",
       "2019-01-24    False\n",
       "2019-01-25    False\n",
       "2019-01-26     True\n",
       "2019-01-27    False\n",
       "Freq: D, Name: E, dtype: bool"
      ]
     },
     "execution_count": 27,
     "metadata": {},
     "output_type": "execute_result"
    }
   ],
   "source": [
    "# 'alpha' 값이 있는 데이타 부분은 True 로 출력 -> Series\n",
    "df2['E'].isin(['alpha'])"
   ]
  },
  {
   "cell_type": "code",
   "execution_count": 28,
   "metadata": {},
   "outputs": [
    {
     "data": {
      "text/plain": [
       "2019-01-22     True\n",
       "2019-01-23    False\n",
       "2019-01-24     True\n",
       "2019-01-25     True\n",
       "2019-01-26     True\n",
       "2019-01-27     True\n",
       "Freq: D, Name: E, dtype: bool"
      ]
     },
     "execution_count": 28,
     "metadata": {},
     "output_type": "execute_result"
    }
   ],
   "source": [
    "# 'alpha' , 'gamma'값이 있는 데이타 부분은 True 로 출력 -> Series\n",
    "df2['E'].isin(['alpha','gamma'])"
   ]
  },
  {
   "cell_type": "code",
   "execution_count": 29,
   "metadata": {},
   "outputs": [
    {
     "data": {
      "text/html": [
       "<div>\n",
       "<style scoped>\n",
       "    .dataframe tbody tr th:only-of-type {\n",
       "        vertical-align: middle;\n",
       "    }\n",
       "\n",
       "    .dataframe tbody tr th {\n",
       "        vertical-align: top;\n",
       "    }\n",
       "\n",
       "    .dataframe thead th {\n",
       "        text-align: right;\n",
       "    }\n",
       "</style>\n",
       "<table border=\"1\" class=\"dataframe\">\n",
       "  <thead>\n",
       "    <tr style=\"text-align: right;\">\n",
       "      <th></th>\n",
       "      <th>A</th>\n",
       "      <th>B</th>\n",
       "      <th>C</th>\n",
       "      <th>D</th>\n",
       "      <th>E</th>\n",
       "    </tr>\n",
       "  </thead>\n",
       "  <tbody>\n",
       "    <tr>\n",
       "      <th>2019-01-22</th>\n",
       "      <td>-0.439609</td>\n",
       "      <td>-1.295780</td>\n",
       "      <td>-1.933554</td>\n",
       "      <td>-2.072110</td>\n",
       "      <td>alpha</td>\n",
       "    </tr>\n",
       "    <tr>\n",
       "      <th>2019-01-26</th>\n",
       "      <td>0.684003</td>\n",
       "      <td>-1.100495</td>\n",
       "      <td>-1.424707</td>\n",
       "      <td>-0.137961</td>\n",
       "      <td>alpha</td>\n",
       "    </tr>\n",
       "  </tbody>\n",
       "</table>\n",
       "</div>"
      ],
      "text/plain": [
       "                   A         B         C         D      E\n",
       "2019-01-22 -0.439609 -1.295780 -1.933554 -2.072110  alpha\n",
       "2019-01-26  0.684003 -1.100495 -1.424707 -0.137961  alpha"
      ]
     },
     "execution_count": 29,
     "metadata": {},
     "output_type": "execute_result"
    }
   ],
   "source": [
    "# 'alpha' 값이 있는 행 추출 \n",
    "df2[df2['E'].isin(['alpha'])]"
   ]
  },
  {
   "cell_type": "code",
   "execution_count": 30,
   "metadata": {},
   "outputs": [
    {
     "data": {
      "text/html": [
       "<div>\n",
       "<style scoped>\n",
       "    .dataframe tbody tr th:only-of-type {\n",
       "        vertical-align: middle;\n",
       "    }\n",
       "\n",
       "    .dataframe tbody tr th {\n",
       "        vertical-align: top;\n",
       "    }\n",
       "\n",
       "    .dataframe thead th {\n",
       "        text-align: right;\n",
       "    }\n",
       "</style>\n",
       "<table border=\"1\" class=\"dataframe\">\n",
       "  <thead>\n",
       "    <tr style=\"text-align: right;\">\n",
       "      <th></th>\n",
       "      <th>A</th>\n",
       "      <th>B</th>\n",
       "      <th>C</th>\n",
       "      <th>D</th>\n",
       "      <th>E</th>\n",
       "    </tr>\n",
       "  </thead>\n",
       "  <tbody>\n",
       "    <tr>\n",
       "      <th>2019-01-22</th>\n",
       "      <td>-0.439609</td>\n",
       "      <td>-1.295780</td>\n",
       "      <td>-1.933554</td>\n",
       "      <td>-2.072110</td>\n",
       "      <td>alpha</td>\n",
       "    </tr>\n",
       "    <tr>\n",
       "      <th>2019-01-26</th>\n",
       "      <td>0.684003</td>\n",
       "      <td>-1.100495</td>\n",
       "      <td>-1.424707</td>\n",
       "      <td>-0.137961</td>\n",
       "      <td>alpha</td>\n",
       "    </tr>\n",
       "  </tbody>\n",
       "</table>\n",
       "</div>"
      ],
      "text/plain": [
       "                   A         B         C         D      E\n",
       "2019-01-22 -0.439609 -1.295780 -1.933554 -2.072110  alpha\n",
       "2019-01-26  0.684003 -1.100495 -1.424707 -0.137961  alpha"
      ]
     },
     "execution_count": 30,
     "metadata": {},
     "output_type": "execute_result"
    }
   ],
   "source": [
    "# 'alpha' 값이 있는 행 추출 \n",
    "df2[df2['E'] == 'alpha']"
   ]
  },
  {
   "cell_type": "code",
   "execution_count": 31,
   "metadata": {},
   "outputs": [
    {
     "data": {
      "text/html": [
       "<div>\n",
       "<style scoped>\n",
       "    .dataframe tbody tr th:only-of-type {\n",
       "        vertical-align: middle;\n",
       "    }\n",
       "\n",
       "    .dataframe tbody tr th {\n",
       "        vertical-align: top;\n",
       "    }\n",
       "\n",
       "    .dataframe thead th {\n",
       "        text-align: right;\n",
       "    }\n",
       "</style>\n",
       "<table border=\"1\" class=\"dataframe\">\n",
       "  <thead>\n",
       "    <tr style=\"text-align: right;\">\n",
       "      <th></th>\n",
       "      <th>A</th>\n",
       "      <th>B</th>\n",
       "      <th>C</th>\n",
       "      <th>D</th>\n",
       "      <th>E</th>\n",
       "    </tr>\n",
       "  </thead>\n",
       "  <tbody>\n",
       "    <tr>\n",
       "      <th>2019-01-22</th>\n",
       "      <td>-0.439609</td>\n",
       "      <td>-1.295780</td>\n",
       "      <td>-1.933554</td>\n",
       "      <td>-2.072110</td>\n",
       "      <td>alpha</td>\n",
       "    </tr>\n",
       "    <tr>\n",
       "      <th>2019-01-23</th>\n",
       "      <td>0.331972</td>\n",
       "      <td>-0.503803</td>\n",
       "      <td>-1.141856</td>\n",
       "      <td>1.072359</td>\n",
       "      <td>beta</td>\n",
       "    </tr>\n",
       "    <tr>\n",
       "      <th>2019-01-26</th>\n",
       "      <td>0.684003</td>\n",
       "      <td>-1.100495</td>\n",
       "      <td>-1.424707</td>\n",
       "      <td>-0.137961</td>\n",
       "      <td>alpha</td>\n",
       "    </tr>\n",
       "  </tbody>\n",
       "</table>\n",
       "</div>"
      ],
      "text/plain": [
       "                   A         B         C         D      E\n",
       "2019-01-22 -0.439609 -1.295780 -1.933554 -2.072110  alpha\n",
       "2019-01-23  0.331972 -0.503803 -1.141856  1.072359   beta\n",
       "2019-01-26  0.684003 -1.100495 -1.424707 -0.137961  alpha"
      ]
     },
     "execution_count": 31,
     "metadata": {},
     "output_type": "execute_result"
    }
   ],
   "source": [
    "# 'alpha', 'beta' 값이 있는 행 추출 \n",
    "df2[df2['E'].isin(['alpha', 'beta'])]"
   ]
  },
  {
   "cell_type": "code",
   "execution_count": 32,
   "metadata": {},
   "outputs": [
    {
     "data": {
      "text/html": [
       "<div>\n",
       "<style scoped>\n",
       "    .dataframe tbody tr th:only-of-type {\n",
       "        vertical-align: middle;\n",
       "    }\n",
       "\n",
       "    .dataframe tbody tr th {\n",
       "        vertical-align: top;\n",
       "    }\n",
       "\n",
       "    .dataframe thead th {\n",
       "        text-align: right;\n",
       "    }\n",
       "</style>\n",
       "<table border=\"1\" class=\"dataframe\">\n",
       "  <thead>\n",
       "    <tr style=\"text-align: right;\">\n",
       "      <th></th>\n",
       "      <th>A</th>\n",
       "      <th>B</th>\n",
       "      <th>C</th>\n",
       "      <th>D</th>\n",
       "      <th>E</th>\n",
       "    </tr>\n",
       "  </thead>\n",
       "  <tbody>\n",
       "    <tr>\n",
       "      <th>2019-01-22</th>\n",
       "      <td>-0.439609</td>\n",
       "      <td>-1.295780</td>\n",
       "      <td>-1.933554</td>\n",
       "      <td>-2.072110</td>\n",
       "      <td>alpha</td>\n",
       "    </tr>\n",
       "    <tr>\n",
       "      <th>2019-01-23</th>\n",
       "      <td>0.331972</td>\n",
       "      <td>-0.503803</td>\n",
       "      <td>-1.141856</td>\n",
       "      <td>1.072359</td>\n",
       "      <td>beta</td>\n",
       "    </tr>\n",
       "    <tr>\n",
       "      <th>2019-01-26</th>\n",
       "      <td>0.684003</td>\n",
       "      <td>-1.100495</td>\n",
       "      <td>-1.424707</td>\n",
       "      <td>-0.137961</td>\n",
       "      <td>alpha</td>\n",
       "    </tr>\n",
       "  </tbody>\n",
       "</table>\n",
       "</div>"
      ],
      "text/plain": [
       "                   A         B         C         D      E\n",
       "2019-01-22 -0.439609 -1.295780 -1.933554 -2.072110  alpha\n",
       "2019-01-23  0.331972 -0.503803 -1.141856  1.072359   beta\n",
       "2019-01-26  0.684003 -1.100495 -1.424707 -0.137961  alpha"
      ]
     },
     "execution_count": 32,
     "metadata": {},
     "output_type": "execute_result"
    }
   ],
   "source": [
    "df2[(df2['E'] == 'alpha') | (df2['E'] == 'beta') ]"
   ]
  },
  {
   "cell_type": "code",
   "execution_count": null,
   "metadata": {},
   "outputs": [],
   "source": []
  }
 ],
 "metadata": {
  "kernelspec": {
   "display_name": "Python 3",
   "language": "python",
   "name": "python3"
  },
  "language_info": {
   "codemirror_mode": {
    "name": "ipython",
    "version": 3
   },
   "file_extension": ".py",
   "mimetype": "text/x-python",
   "name": "python",
   "nbconvert_exporter": "python",
   "pygments_lexer": "ipython3",
   "version": "3.7.3"
  }
 },
 "nbformat": 4,
 "nbformat_minor": 2
}

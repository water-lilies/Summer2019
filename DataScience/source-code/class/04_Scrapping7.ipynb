{
 "cells": [
  {
   "cell_type": "markdown",
   "metadata": {},
   "source": [
    "## Beautiful Soup\n",
    "\n",
    "- css나 xpath를 쉽게 사용하기 위해서 나온 모듈\n",
    "- html 파싱할 때 꼭 사용\n",
    "- 내부적으로는 lxml가 포함"
   ]
  },
  {
   "cell_type": "code",
   "execution_count": 1,
   "metadata": {},
   "outputs": [],
   "source": [
    "from bs4 import BeautifulSoup"
   ]
  },
  {
   "cell_type": "code",
   "execution_count": 2,
   "metadata": {},
   "outputs": [],
   "source": [
    "# 테스트 html (response data 또는 파일에서 읽어온 data로 가정)\n",
    "html = \"\"\"\n",
    "<html>\n",
    "<head>\n",
    "<title>The Dormouse's story</title>\n",
    "</head>\n",
    "<body>\n",
    "<h1>this is h1 area</h1>\n",
    "<h2>this is h2 area</h2>\n",
    "<p class=\"title\"><b>The Dormouse's story</b></p>\n",
    "<p class=\"story\">Once upon a time there were three little sisters\n",
    "<a href=\"http://example.com/elsie\" class=\"sister\" id=\"link1\">Elsie</a>\n",
    "<a href=\"http://example.com/lacie\" class=\"sister\" id=\"link2\">Lacie</a>\n",
    "<a data-io=\"link3\" href=\"http://example.com/tillie\" class=\"sister\" id=\"link3\">Tillie</a>\n",
    "</p>\n",
    "<p class=\"story\">story...</p>\n",
    "</body>\n",
    "</html>\n",
    "\"\"\""
   ]
  },
  {
   "cell_type": "code",
   "execution_count": 3,
   "metadata": {},
   "outputs": [
    {
     "name": "stdout",
     "output_type": "stream",
     "text": [
      "soup <class 'bs4.BeautifulSoup'>\n"
     ]
    }
   ],
   "source": [
    "# bs4 초기화\n",
    "soup = BeautifulSoup(html, 'html.parser')\n",
    "\n",
    "# 타입 확인\n",
    "print('soup', type(soup))"
   ]
  },
  {
   "cell_type": "code",
   "execution_count": 4,
   "metadata": {},
   "outputs": [
    {
     "name": "stdout",
     "output_type": "stream",
     "text": [
      "prettify <html>\n",
      " <head>\n",
      "  <title>\n",
      "   The Dormouse's story\n",
      "  </title>\n",
      " </head>\n",
      " <body>\n",
      "  <h1>\n",
      "   this is h1 area\n",
      "  </h1>\n",
      "  <h2>\n",
      "   this is h2 area\n",
      "  </h2>\n",
      "  <p class=\"title\">\n",
      "   <b>\n",
      "    The Dormouse's story\n",
      "   </b>\n",
      "  </p>\n",
      "  <p class=\"story\">\n",
      "   Once upon a time there were three little sisters\n",
      "   <a class=\"sister\" href=\"http://example.com/elsie\" id=\"link1\">\n",
      "    Elsie\n",
      "   </a>\n",
      "   <a class=\"sister\" href=\"http://example.com/lacie\" id=\"link2\">\n",
      "    Lacie\n",
      "   </a>\n",
      "   <a class=\"sister\" data-io=\"link3\" href=\"http://example.com/tillie\" id=\"link3\">\n",
      "    Tillie\n",
      "   </a>\n",
      "  </p>\n",
      "  <p class=\"story\">\n",
      "   story...\n",
      "  </p>\n",
      " </body>\n",
      "</html>\n",
      "\n"
     ]
    }
   ],
   "source": [
    "# 코드 정리\n",
    "print('prettify', soup.prettify())"
   ]
  },
  {
   "cell_type": "code",
   "execution_count": 5,
   "metadata": {},
   "outputs": [
    {
     "name": "stdout",
     "output_type": "stream",
     "text": [
      "h1 <h1>this is h1 area</h1>\n"
     ]
    }
   ],
   "source": [
    "h1 = soup.html.body.h1\n",
    "print('h1', h1)"
   ]
  },
  {
   "cell_type": "code",
   "execution_count": 7,
   "metadata": {},
   "outputs": [
    {
     "name": "stdout",
     "output_type": "stream",
     "text": [
      "p1 <p class=\"title\"><b>The Dormouse's story</b></p>\n"
     ]
    }
   ],
   "source": [
    "p1 = soup.html.body.p\n",
    "print('p1', p1)"
   ]
  },
  {
   "cell_type": "code",
   "execution_count": 11,
   "metadata": {},
   "outputs": [
    {
     "name": "stdout",
     "output_type": "stream",
     "text": [
      "p2 <p class=\"story\">Once upon a time there were three little sisters\n",
      "<a class=\"sister\" href=\"http://example.com/elsie\" id=\"link1\">Elsie</a>\n",
      "<a class=\"sister\" href=\"http://example.com/lacie\" id=\"link2\">Lacie</a>\n",
      "<a class=\"sister\" data-io=\"link3\" href=\"http://example.com/tillie\" id=\"link3\">Tillie</a>\n",
      "</p>\n"
     ]
    }
   ],
   "source": [
    "# \\n이 있고, <p>\n",
    "p2 = p1.next_sibling.next_sibling\n",
    "print('p2', p2)"
   ]
  },
  {
   "cell_type": "code",
   "execution_count": 13,
   "metadata": {},
   "outputs": [
    {
     "name": "stdout",
     "output_type": "stream",
     "text": [
      "p >>  The Dormouse's story\n"
     ]
    }
   ],
   "source": [
    "# 텍스트 출력\n",
    "print(\"p >> \", p1.string)"
   ]
  },
  {
   "cell_type": "code",
   "execution_count": 14,
   "metadata": {},
   "outputs": [
    {
     "name": "stdout",
     "output_type": "stream",
     "text": [
      "['Once upon a time there were three little sisters\\n', <a class=\"sister\" href=\"http://example.com/elsie\" id=\"link1\">Elsie</a>, 'Elsie', '\\n', <a class=\"sister\" href=\"http://example.com/lacie\" id=\"link2\">Lacie</a>, 'Lacie', '\\n', <a class=\"sister\" data-io=\"link3\" href=\"http://example.com/tillie\" id=\"link3\">Tillie</a>, 'Tillie', '\\n', '\\n', <p class=\"story\">story...</p>, 'story...', '\\n', '\\n', '\\n']\n",
      "Once upon a time there were three little sisters\n",
      "\n",
      "<a class=\"sister\" href=\"http://example.com/elsie\" id=\"link1\">Elsie</a>\n",
      "Elsie\n",
      "\n",
      "\n",
      "<a class=\"sister\" href=\"http://example.com/lacie\" id=\"link2\">Lacie</a>\n",
      "Lacie\n",
      "\n",
      "\n",
      "<a class=\"sister\" data-io=\"link3\" href=\"http://example.com/tillie\" id=\"link3\">Tillie</a>\n",
      "Tillie\n",
      "\n",
      "\n",
      "\n",
      "\n",
      "<p class=\"story\">story...</p>\n",
      "story...\n",
      "\n",
      "\n",
      "\n",
      "\n",
      "\n",
      "\n"
     ]
    }
   ],
   "source": [
    "# 다음 엘리먼트 확인\n",
    "print(list(p2.next_elements))\n",
    "\n",
    "# 반복 출력 확인\n",
    "for v in p2.next_elements:\n",
    "    print(v)"
   ]
  },
  {
   "cell_type": "code",
   "execution_count": null,
   "metadata": {},
   "outputs": [],
   "source": []
  },
  {
   "cell_type": "code",
   "execution_count": 18,
   "metadata": {},
   "outputs": [
    {
     "name": "stdout",
     "output_type": "stream",
     "text": [
      "links <class 'bs4.element.ResultSet'>\n",
      "[<a class=\"sister\" href=\"http://example.com/elsie\" id=\"link1\">Elsie</a>, <a class=\"sister\" href=\"http://example.com/lacie\" id=\"link2\">Lacie</a>, <a class=\"sister\" data-io=\"link3\" href=\"http://example.com/tillie\" id=\"link3\">Tillie</a>]\n"
     ]
    }
   ],
   "source": [
    "soup = BeautifulSoup(html, 'html.parser')\n",
    "\n",
    "# a 태그 모두 선택\n",
    "links1 = soup.find_all(\"a\")  # limit=2\n",
    "\n",
    "# 타입 확인\n",
    "print('links', type(links1))\n",
    "\n",
    "# 리스트 요소 확인\n",
    "print(links1)"
   ]
  },
  {
   "cell_type": "code",
   "execution_count": 16,
   "metadata": {},
   "outputs": [
    {
     "name": "stdout",
     "output_type": "stream",
     "text": [
      "<a class=\"sister\" data-io=\"link3\" href=\"http://example.com/tillie\" id=\"link3\">Tillie</a>\n"
     ]
    }
   ],
   "source": [
    "# 다중 조건\n",
    "link2 = soup.find(\"a\", {\"class\": \"sister\", \"data-io\": \"link3\"})\n",
    "# 출력\n",
    "print(link2)"
   ]
  },
  {
   "cell_type": "code",
   "execution_count": 21,
   "metadata": {},
   "outputs": [
    {
     "name": "stdout",
     "output_type": "stream",
     "text": [
      "<b>The Dormouse's story</b>\n",
      "The Dormouse's story\n",
      "<a class=\"sister\" href=\"http://example.com/elsie\" id=\"link1\">Elsie</a>\n",
      "Elsie\n",
      "<a class=\"sister\" data-io=\"link3\" href=\"http://example.com/tillie\" id=\"link3\">Tillie</a>\n",
      "Tillie\n"
     ]
    }
   ],
   "source": [
    "# CSS 선택자 중요\n",
    "# 태그 + 클래스 + 자식 선택자\n",
    "link1 = soup.select_one(\"p.title > b\")\n",
    "# 태그 + id 선택자\n",
    "link2 = soup.select_one(\"a#link1\")\n",
    "# 태그 + 속성 선택자\n",
    "link3 = soup.select_one(\"a[data-io='link3']\")\n",
    "\n",
    "# 전체 구조 및 텍스트 출력\n",
    "print(link1)\n",
    "print(link1.string)\n",
    "print(link2)\n",
    "print(link2.string)\n",
    "print(link3)\n",
    "print(link3.string)"
   ]
  },
  {
   "cell_type": "code",
   "execution_count": 22,
   "metadata": {},
   "outputs": [
    {
     "name": "stdout",
     "output_type": "stream",
     "text": [
      "[<a class=\"sister\" href=\"http://example.com/elsie\" id=\"link1\">Elsie</a>, <a class=\"sister\" href=\"http://example.com/lacie\" id=\"link2\">Lacie</a>, <a class=\"sister\" data-io=\"link3\" href=\"http://example.com/tillie\" id=\"link3\">Tillie</a>]\n",
      "[<a class=\"sister\" href=\"http://example.com/lacie\" id=\"link2\">Lacie</a>]\n",
      "<p class=\"story\">story...</p>\n"
     ]
    }
   ],
   "source": [
    "# 선택자에 맞는 전체 선택\n",
    "# 태그 + 클래스 + 자식\n",
    "link4 = soup.select(\"p.story > a\")\n",
    "# 태그 + 클래스 + 자식 + 태그 + 순서\n",
    "link5 = soup.select(\"p.story > a:nth-of-type(2)\")\n",
    "# 태그 + 클래스\n",
    "link6 = soup.select(\"p.story\")\n",
    "\n",
    "# 전체 구조 및 텍스트 출력\n",
    "print(link4)\n",
    "print(link5)\n",
    "print(link6[1])"
   ]
  },
  {
   "cell_type": "code",
   "execution_count": null,
   "metadata": {},
   "outputs": [],
   "source": []
  }
 ],
 "metadata": {
  "kernelspec": {
   "display_name": "Python 3",
   "language": "python",
   "name": "python3"
  },
  "language_info": {
   "codemirror_mode": {
    "name": "ipython",
    "version": 3
   },
   "file_extension": ".py",
   "mimetype": "text/x-python",
   "name": "python",
   "nbconvert_exporter": "python",
   "pygments_lexer": "ipython3",
   "version": "3.7.3"
  }
 },
 "nbformat": 4,
 "nbformat_minor": 2
}

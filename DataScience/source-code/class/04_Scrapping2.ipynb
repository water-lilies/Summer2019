{
 "cells": [
  {
   "cell_type": "markdown",
   "metadata": {},
   "source": [
    "## urlopen 함수 기초 사용법\n",
    "\n",
    "- 네이버에서 고양이로 검색하고 이미지 탭에서 선택한 이미지 URL로 로컬에 파일다운로드\n",
    "- urllib.request.urlopen()\n",
    "- URLError : 잘못된 주소를 요청하는 경우\n",
    "- HTTPError : 서버가 접속이 안되는 경우"
   ]
  },
  {
   "cell_type": "code",
   "execution_count": 1,
   "metadata": {},
   "outputs": [],
   "source": [
    "import urllib.request as req\n",
    "from urllib.error import URLError, HTTPError"
   ]
  },
  {
   "cell_type": "code",
   "execution_count": 2,
   "metadata": {},
   "outputs": [],
   "source": [
    "# 다운로드 경로 및 파일명\n",
    "path_list = [\"C:/Users/전산실/test1.jpg\", \"C:/Users/전산실/index.html\"]\n",
    "\n",
    "# 다운로드 리소스 URL\n",
    "target_url = [\"http://blogfiles.naver.net/20160222_233/j_dh1991_1456106505134qdUgn_JPEG/B1A9BFEE_B0EDBEE7C0CC_BBE7C1F8_BDBAC4DA%3FBDAC_C6FAB5E5_7.jpg\",\n",
    "              \"http://google.com\"]"
   ]
  },
  {
   "cell_type": "code",
   "execution_count": 3,
   "metadata": {},
   "outputs": [
    {
     "name": "stdout",
     "output_type": "stream",
     "text": [
      "---------------------------------------------------\n",
      "Header Info-0 : Date: Thu, 01 Aug 2019 03:44:01 GMT\n",
      "Server: Apache\n",
      "P3P: CP=\"ALL CURa ADMa DEVa TAIa OUR BUS IND PHY ONL UNI PUR FIN COM NAV INT DEM CNT STA POL HEA PRE LOC OTC\"\n",
      "Accept-Ranges: bytes\n",
      "Last-Modified: Thu, 09 May 2019 06:28:05 GMT\n",
      "Content-Length: 20871\n",
      "Cache-Control: max-age=2592000\n",
      "Content-Type: image/jpeg\n",
      "Age: 2055905\n",
      "Expires: Sat, 08 Jun 2019 06:28:05 GMT\n",
      "Connection: close\n",
      "\n",
      "\n",
      "HTTP Status Code : 200\n",
      "\n",
      "---------------------------------------------------\n",
      "\n",
      "Download Succeed.\n",
      "---------------------------------------------------\n",
      "Header Info-1 : Date: Thu, 01 Aug 2019 03:44:03 GMT\n",
      "Expires: -1\n",
      "Cache-Control: private, max-age=0\n",
      "Content-Type: text/html; charset=ISO-8859-1\n",
      "P3P: CP=\"This is not a P3P policy! See g.co/p3phelp for more info.\"\n",
      "Server: gws\n",
      "X-XSS-Protection: 0\n",
      "X-Frame-Options: SAMEORIGIN\n",
      "Set-Cookie: 1P_JAR=2019-08-01-03; expires=Sat, 31-Aug-2019 03:44:03 GMT; path=/; domain=.google.com\n",
      "Set-Cookie: NID=188=NKFxj7Z9bdI1VYhumBVZTJrr9Yv_lVlk7NFlfUBZWDNo4Lqmf9_xhDdT9J2Jy56kZHYTwt9j42HwFzuTj70VnhyR2fVHrddHxamjWGQDWGyIpOBg4qa7L29SP-vSw3trdazz9CLYY5DBO8IOZzUTZmMYPcQtS13DxkHTFJd-xng; expires=Fri, 31-Jan-2020 03:44:03 GMT; path=/; domain=.google.com; HttpOnly\n",
      "Accept-Ranges: none\n",
      "Vary: Accept-Encoding\n",
      "Connection: close\n",
      "\n",
      "\n",
      "HTTP Status Code : 200\n",
      "\n",
      "---------------------------------------------------\n",
      "\n",
      "Download Succeed.\n"
     ]
    }
   ],
   "source": [
    "for i, url in enumerate(target_url):\n",
    "    # 예외 처리\n",
    "    try:\n",
    "        # 웹 수신 정보 읽기\n",
    "        response = req.urlopen(url)\n",
    "        \n",
    "        # 수신 내용\n",
    "        contents = response.read()\n",
    "\n",
    "        print('---------------------------------------------------')\n",
    "\n",
    "        # 상태 정보 중간 출력\n",
    "        print('Header Info-{} : {}'.format(i, response.info()))\n",
    "        print('HTTP Status Code : {}'.format(response.getcode()))\n",
    "        print()\n",
    "        print('---------------------------------------------------')\n",
    "\n",
    "        # 파일 쓰기\n",
    "        with open(path_list[i], 'wb') as c:\n",
    "            c.write(contents)\n",
    "\n",
    "        # HTTP 에러 발생 시\n",
    "    except HTTPError as e:\n",
    "        print(\"Download failed.\")\n",
    "        print('HTTPError Code : ', e.code)\n",
    "\n",
    "        # URL 에러 발생 시\n",
    "    except URLError as e:\n",
    "        print(\"Download failed.\")\n",
    "        print('URL Error Reason : ', e.reason)\n",
    "\n",
    "        # 성공\n",
    "    else:\n",
    "        print()\n",
    "        print(\"Download Succeed.\")"
   ]
  },
  {
   "cell_type": "code",
   "execution_count": null,
   "metadata": {},
   "outputs": [],
   "source": []
  }
 ],
 "metadata": {
  "kernelspec": {
   "display_name": "Python 3",
   "language": "python",
   "name": "python3"
  },
  "language_info": {
   "codemirror_mode": {
    "name": "ipython",
    "version": 3
   },
   "file_extension": ".py",
   "mimetype": "text/x-python",
   "name": "python",
   "nbconvert_exporter": "python",
   "pygments_lexer": "ipython3",
   "version": "3.7.3"
  }
 },
 "nbformat": 4,
 "nbformat_minor": 2
}

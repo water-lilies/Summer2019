{
 "cells": [
  {
   "cell_type": "markdown",
   "metadata": {},
   "source": [
    "## BeautifulSoup 사용 스크랩핑 - 이미지 다운로드"
   ]
  },
  {
   "cell_type": "code",
   "execution_count": 5,
   "metadata": {},
   "outputs": [],
   "source": [
    "import os\n",
    "import urllib.parse as rep\n",
    "import urllib.request as req\n",
    "from fake_useragent import UserAgent\n",
    "from bs4 import BeautifulSoup\n"
   ]
  },
  {
   "cell_type": "code",
   "execution_count": 6,
   "metadata": {},
   "outputs": [],
   "source": [
    "# Header 정보 초기화\n",
    "opener = req.build_opener()\n",
    "# User-Agent 정보\n",
    "opener.addheaders = [('User-agent', UserAgent().ie)]\n",
    "# Header 정보 삽입\n",
    "req.install_opener(opener)"
   ]
  },
  {
   "cell_type": "code",
   "execution_count": 17,
   "metadata": {},
   "outputs": [],
   "source": [
    "# 네이버 이미지 기본 URL(크롬 개발자 도구)\n",
    "base = \"https://search.naver.com/search.naver?where=image&sm=tab_jum&query=\"\n",
    "\n",
    "# 검색어 urlencode(),quote_plus() =>  + 공백을 '+' 기호로 변환\n",
    "quote = rep.quote_plus(\"박건후\")\n",
    "\n",
    "# URL 완성\n",
    "url = base + quote\n",
    "\n",
    "# 요청 URL 확인\n",
    "#print('Request URL : {}'.format(url))\n",
    "\n",
    "# Request\n",
    "res = req.urlopen(url)"
   ]
  },
  {
   "cell_type": "code",
   "execution_count": 18,
   "metadata": {},
   "outputs": [
    {
     "name": "stdout",
     "output_type": "stream",
     "text": [
      "folder is created!\n"
     ]
    }
   ],
   "source": [
    "# 이미지 저장 경로\n",
    "savePath = \"C:/Users/전산실/imagedown/\"  # C:\\\\imagedown\\\\\n",
    "\n",
    "try:\n",
    "    if not (os.path.isdir(savePath)):\n",
    "        os.makedirs(os.path.join(savePath))\n",
    "except OSError as e:\n",
    "        print(\"folder creation failed!\")\n",
    "        print(\"folder name : {}\".format(e.filename))\n",
    "        raise RuntimeError('System Exit!')\n",
    "else:\n",
    "    print('folder is created!')"
   ]
  },
  {
   "cell_type": "code",
   "execution_count": 19,
   "metadata": {},
   "outputs": [],
   "source": [
    "soup = BeautifulSoup(res, \"html.parser\")\n",
    "img_list = soup.select(\"div.img_area > \n",
    "                       a.thumb._thumb > img\")"
   ]
  },
  {
   "cell_type": "code",
   "execution_count": 20,
   "metadata": {},
   "outputs": [],
   "source": [
    "# 이미지 번호를 붙여주면서 다운로드\n",
    "for i, img_list in enumerate(img_list, 1):\n",
    "    fullFileName = os.path.join(savePath, \n",
    "                        savePath + str(i) + '.png')\n",
    "    \n",
    "    req.urlretrieve(img_list['data-source'], \n",
    "                    fullFileName)\n"
   ]
  },
  {
   "cell_type": "code",
   "execution_count": 21,
   "metadata": {},
   "outputs": [
    {
     "name": "stdout",
     "output_type": "stream",
     "text": [
      "download succeeded!\n"
     ]
    }
   ],
   "source": [
    "# 다운로드 완료 시 출력\n",
    "print(\"download succeeded!\")"
   ]
  },
  {
   "cell_type": "code",
   "execution_count": null,
   "metadata": {},
   "outputs": [],
   "source": []
  },
  {
   "cell_type": "code",
   "execution_count": null,
   "metadata": {},
   "outputs": [],
   "source": []
  },
  {
   "cell_type": "code",
   "execution_count": null,
   "metadata": {},
   "outputs": [],
   "source": []
  }
 ],
 "metadata": {
  "kernelspec": {
   "display_name": "Python 3",
   "language": "python",
   "name": "python3"
  },
  "language_info": {
   "codemirror_mode": {
    "name": "ipython",
    "version": 3
   },
   "file_extension": ".py",
   "mimetype": "text/x-python",
   "name": "python",
   "nbconvert_exporter": "python",
   "pygments_lexer": "ipython3",
   "version": "3.7.3"
  }
 },
 "nbformat": 4,
 "nbformat_minor": 2
}

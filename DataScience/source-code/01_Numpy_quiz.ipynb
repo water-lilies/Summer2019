{
 "cells": [
  {
   "cell_type": "code",
   "execution_count": 1,
   "metadata": {},
   "outputs": [],
   "source": [
    "import numpy as np"
   ]
  },
  {
   "cell_type": "code",
   "execution_count": 4,
   "metadata": {},
   "outputs": [],
   "source": [
    "data = np.loadtxt(\"../data/movielens-1m/ratings.dat\", delimiter=\"::\",dtype=np.int64)"
   ]
  },
  {
   "cell_type": "code",
   "execution_count": 5,
   "metadata": {},
   "outputs": [
    {
     "name": "stdout",
     "output_type": "stream",
     "text": [
      "[[        1      1193         5 978300760]\n",
      " [        1       661         3 978302109]\n",
      " [        1       914         3 978301968]\n",
      " [        1      3408         4 978300275]\n",
      " [        1      2355         5 978824291]]\n",
      "(1000209, 4)\n"
     ]
    }
   ],
   "source": [
    "print(data[:5, :])\n",
    "print(data.shape)"
   ]
  },
  {
   "cell_type": "markdown",
   "metadata": {},
   "source": [
    "## <전체 평균 평점 계산하기>"
   ]
  },
  {
   "cell_type": "code",
   "execution_count": 8,
   "metadata": {},
   "outputs": [
    {
     "data": {
      "text/plain": [
       "3.581564453029317"
      ]
     },
     "execution_count": 8,
     "metadata": {},
     "output_type": "execute_result"
    }
   ],
   "source": [
    "mean_rating_total = data[:,2].mean()\n",
    "mean_rating_total"
   ]
  },
  {
   "cell_type": "markdown",
   "metadata": {},
   "source": [
    "## <각 사용자 별 평균 평점 계산하기>\n",
    "- 전체데이터 중 기준으로 삼을 열만 인덱싱하여 전체데이터에 대한 전체기준열 array로 삼을 것이다.\n",
    "- 기준으로 삼은 열에서 unique(arr)함수로 중복없는 기준열array변수에 따로 담아놓자.\n",
    "- 전체 기준열array == 중복없는 기준열array 중 특정성분을 조건문으로 하여 마스크를 만든다.\n",
    "- 그 마스크를 전체데이터의 행의 index에 집어 넣으면, 전체기준열에서 특정성분을 가진 행만을 뽑아 낼 수 있다. 열의 index에 넣으면 원하는 열만을 뽑아낼 수 있다."
   ]
  },
  {
   "cell_type": "markdown",
   "metadata": {},
   "source": [
    "중복 데이터 제거"
   ]
  },
  {
   "cell_type": "code",
   "execution_count": 6,
   "metadata": {},
   "outputs": [
    {
     "data": {
      "text/plain": [
       "(6040,)"
      ]
     },
     "execution_count": 6,
     "metadata": {},
     "output_type": "execute_result"
    }
   ],
   "source": [
    "user_ids = np.unique(data[:, 0])\n",
    "user_ids.shape"
   ]
  },
  {
   "cell_type": "markdown",
   "metadata": {},
   "source": [
    "상위 5개 열 확인, shape확인"
   ]
  },
  {
   "cell_type": "code",
   "execution_count": 7,
   "metadata": {},
   "outputs": [
    {
     "name": "stdout",
     "output_type": "stream",
     "text": [
      "[1 2 3 4 5]\n",
      "(6040,)\n"
     ]
    }
   ],
   "source": [
    "print(user_ids[:5])\n",
    "print(user_ids.shape)"
   ]
  },
  {
   "cell_type": "markdown",
   "metadata": {},
   "source": []
  },
  {
   "cell_type": "code",
   "execution_count": 10,
   "metadata": {},
   "outputs": [],
   "source": [
    "mean_rating_by_user_list = []\n",
    "for user_id in user_ids:\n",
    "    data_for_user = data[data[:, 0] == user_id, :]\n",
    "    # print(data_for_user.shape)\n",
    "    mean_rating_for_user = data_for_user[:, 2].mean()\n",
    "    # print(mean_rating_for_user)\n",
    "    mean_rating_by_user_list.append([user_id, mean_rating_for_user])"
   ]
  },
  {
   "cell_type": "markdown",
   "metadata": {},
   "source": []
  },
  {
   "cell_type": "code",
   "execution_count": 11,
   "metadata": {},
   "outputs": [
    {
     "data": {
      "text/plain": [
       "[[1, 4.188679245283019],\n",
       " [2, 3.7131782945736433],\n",
       " [3, 3.9019607843137254],\n",
       " [4, 4.190476190476191],\n",
       " [5, 3.1464646464646466]]"
      ]
     },
     "execution_count": 11,
     "metadata": {},
     "output_type": "execute_result"
    }
   ],
   "source": [
    "mean_rating_by_user_list[:5]"
   ]
  },
  {
   "cell_type": "markdown",
   "metadata": {},
   "source": []
  },
  {
   "cell_type": "code",
   "execution_count": 15,
   "metadata": {},
   "outputs": [],
   "source": [
    "mean_rating_by_user_array = np.array(mean_rating_by_user_list, dtype=np.float32)"
   ]
  },
  {
   "cell_type": "markdown",
   "metadata": {},
   "source": []
  },
  {
   "cell_type": "code",
   "execution_count": 13,
   "metadata": {},
   "outputs": [
    {
     "name": "stdout",
     "output_type": "stream",
     "text": [
      "[[1.         4.18867925]\n",
      " [2.         3.71317829]\n",
      " [3.         3.90196078]\n",
      " [4.         4.19047619]\n",
      " [5.         3.14646465]]\n",
      "(6040, 2)\n"
     ]
    }
   ],
   "source": [
    "print(mean_rating_by_user_array[:5])\n",
    "print(mean_rating_by_user_array.shape)"
   ]
  },
  {
   "cell_type": "markdown",
   "metadata": {},
   "source": []
  },
  {
   "cell_type": "code",
   "execution_count": 18,
   "metadata": {},
   "outputs": [],
   "source": [
    "np.savetxt(\"C:\\python\\DataScience\\data\\movielens-1m/mean_rating_by_user.csv\",mean_rating_by_user_array, fmt=\"%.3f\", delimiter=\",\")"
   ]
  }
 ],
 "metadata": {
  "kernelspec": {
   "display_name": "Python 3",
   "language": "python",
   "name": "python3"
  },
  "language_info": {
   "codemirror_mode": {
    "name": "ipython",
    "version": 3
   },
   "file_extension": ".py",
   "mimetype": "text/x-python",
   "name": "python",
   "nbconvert_exporter": "python",
   "pygments_lexer": "ipython3",
   "version": "3.7.3"
  }
 },
 "nbformat": 4,
 "nbformat_minor": 2
}

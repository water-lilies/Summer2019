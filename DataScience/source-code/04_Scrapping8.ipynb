{
 "cells": [
  {
   "cell_type": "markdown",
   "metadata": {},
   "source": [
    "## BeautifulSoup 사용 스크랩핑. 이미지 다운로드"
   ]
  },
  {
   "cell_type": "code",
   "execution_count": 7,
   "metadata": {},
   "outputs": [],
   "source": [
    "import os\n",
    "import urllib.parse as rep\n",
    "import urllib.request as req\n",
    "from fake_useragent import UserAgent\n",
    "\n",
    "from bs4 import BeautifulSoup"
   ]
  },
  {
   "cell_type": "code",
   "execution_count": 14,
   "metadata": {},
   "outputs": [],
   "source": [
    "# Header 정보 초기화\n",
    "opener = req.build_opener()\n",
    "# User-Agent 정보\n",
    "opener.addheaders = [('User-agent',UserAgent().ie)]\n",
    "# Header 정부 삽입\n",
    "req.install_opener(opener)"
   ]
  },
  {
   "cell_type": "code",
   "execution_count": 9,
   "metadata": {},
   "outputs": [],
   "source": [
    "# 네이버 이미지 기본 URL(크롬 개발자 도구)\n",
    "base = \"https://search.naver.com/search.naver?sm=tab_hty.top&where=image&query=%EB%B0%95%EA%B1%B4%ED%9B%84&oquery=%EA%B3%A0%EC%96%91%EC%9D%B4&tqi=UR501wprvxZsssQhbICssssssnV-480254\"\n",
    "\n",
    "# 검색어 urlencode(),quote(), quote_plus() => quote() + 공백을 '+' 기호로 변환\n",
    "quote = rep.quote_plus(\"박건후\")\n",
    "\n",
    "# URL 완성\n",
    "url = base + quote\n",
    "\n",
    "# 요청 URL 확인\n",
    "# print('Request URL : {}'.format(url))\n",
    "\n",
    "# Request\n",
    "res = req.urlopen(url)"
   ]
  },
  {
   "cell_type": "code",
   "execution_count": 10,
   "metadata": {},
   "outputs": [
    {
     "name": "stdout",
     "output_type": "stream",
     "text": [
      "folder is created!\n"
     ]
    }
   ],
   "source": [
    "# 이미지 저장 경로\n",
    "savePath = \"C:/User/전산실/imagedown/\" #C:\\\\imagedown\\\\\n",
    "\n",
    "# 폴더 생성 예외처리(문제 발생 시 프로그램 종료)\n",
    "try:\n",
    "    # 기존 폴더가 있는지 체크\n",
    "    if not (os.path.isdir(savePath)):\n",
    "        # 없으면 폴더 생성\n",
    "        os.makedirs(os.path.join(savePath))\n",
    "except OSError as e :\n",
    "        # 에러내용\n",
    "        print(\"folder creation failed!\")\n",
    "        print(\"folder name : {}\".format(e.filename))\n",
    "    \n",
    "        # 런타임 에러 raise\n",
    "        raise RuntimeError('System Exit!')\n",
    "else:\n",
    "    # 폴더 생성 정상이 경우 실행\n",
    "    print('folder is created!')"
   ]
  },
  {
   "cell_type": "code",
   "execution_count": 11,
   "metadata": {},
   "outputs": [],
   "source": [
    "# bs4 초기화\n",
    "soup = BeautifulSoup(res, \"html.parser\")\n",
    "\n",
    "# select 사용\n",
    "img_list = soup.select(\"div.img_area > a.thumb._thumb > img\")"
   ]
  },
  {
   "cell_type": "code",
   "execution_count": 12,
   "metadata": {},
   "outputs": [],
   "source": [
    "# 이미지 번호를 붙여주면서 다운로드\n",
    "for i, img_list in enumerate(img_list, 1):\n",
    "    # 속성 확인\n",
    "    # print(img_list['data-source'])\n",
    "    \n",
    "    # 저장 파일명 및 경로\n",
    "    fullFileName = os.path.join(savePath, savePath + str(i)+'.png')\n",
    "    # 파일명 출력\n",
    "    # print('full name : {}'.format(fullFileName))\n",
    "    \n",
    "    # 다운로드 요청(URL, 저장경로)\n",
    "    req.urlretrieve(img_list['data-source'],fullFileName)"
   ]
  },
  {
   "cell_type": "code",
   "execution_count": 13,
   "metadata": {},
   "outputs": [
    {
     "name": "stdout",
     "output_type": "stream",
     "text": [
      "download succeeded!\n"
     ]
    }
   ],
   "source": [
    "# 다운로드 완료시 출력\n",
    "print(\"download succeeded!\")"
   ]
  },
  {
   "cell_type": "code",
   "execution_count": null,
   "metadata": {},
   "outputs": [],
   "source": []
  },
  {
   "cell_type": "code",
   "execution_count": null,
   "metadata": {},
   "outputs": [],
   "source": []
  },
  {
   "cell_type": "code",
   "execution_count": null,
   "metadata": {},
   "outputs": [],
   "source": []
  }
 ],
 "metadata": {
  "kernelspec": {
   "display_name": "Python 3",
   "language": "python",
   "name": "python3"
  },
  "language_info": {
   "codemirror_mode": {
    "name": "ipython",
    "version": 3
   },
   "file_extension": ".py",
   "mimetype": "text/x-python",
   "name": "python",
   "nbconvert_exporter": "python",
   "pygments_lexer": "ipython3",
   "version": "3.7.3"
  }
 },
 "nbformat": 4,
 "nbformat_minor": 2
}

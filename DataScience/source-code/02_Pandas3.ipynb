{
 "cells": [
  {
   "cell_type": "code",
   "execution_count": 1,
   "metadata": {},
   "outputs": [],
   "source": [
    "import numpy as np\n",
    "import pandas as pd"
   ]
  },
  {
   "cell_type": "markdown",
   "metadata": {},
   "source": [
    "## pd.data_range() 함수 알아보기\n",
    "- 연속적인 날짜 데이타에 사용\n",
    "- pd.data_range(초기날짜,periods=count)"
   ]
  },
  {
   "cell_type": "code",
   "execution_count": 2,
   "metadata": {},
   "outputs": [
    {
     "data": {
      "text/plain": [
       "array([ 1,  2,  3,  4,  5,  6,  7,  8,  9, 10])"
      ]
     },
     "execution_count": 2,
     "metadata": {},
     "output_type": "execute_result"
    }
   ],
   "source": [
    "# 연속된 숫자를 출력\n",
    "np.arange(1,11)"
   ]
  },
  {
   "cell_type": "code",
   "execution_count": 5,
   "metadata": {},
   "outputs": [
    {
     "data": {
      "text/plain": [
       "DatetimeIndex(['2019-02-26', '2019-02-27', '2019-02-28', '2019-03-01',\n",
       "               '2019-03-02'],\n",
       "              dtype='datetime64[ns]', freq='D')"
      ]
     },
     "execution_count": 5,
     "metadata": {},
     "output_type": "execute_result"
    }
   ],
   "source": [
    "# 연속된 날짜 데이타 생성\n",
    "date_list = pd.date_range('20190226',periods=5)\n",
    "date_list"
   ]
  },
  {
   "cell_type": "code",
   "execution_count": 6,
   "metadata": {},
   "outputs": [
    {
     "data": {
      "text/plain": [
       "pandas.core.indexes.datetimes.DatetimeIndex"
      ]
     },
     "execution_count": 6,
     "metadata": {},
     "output_type": "execute_result"
    }
   ],
   "source": [
    "type(date_list)"
   ]
  },
  {
   "cell_type": "code",
   "execution_count": 7,
   "metadata": {
    "scrolled": true
   },
   "outputs": [
    {
     "data": {
      "text/html": [
       "<div>\n",
       "<style scoped>\n",
       "    .dataframe tbody tr th:only-of-type {\n",
       "        vertical-align: middle;\n",
       "    }\n",
       "\n",
       "    .dataframe tbody tr th {\n",
       "        vertical-align: top;\n",
       "    }\n",
       "\n",
       "    .dataframe thead th {\n",
       "        text-align: right;\n",
       "    }\n",
       "</style>\n",
       "<table border=\"1\" class=\"dataframe\">\n",
       "  <thead>\n",
       "    <tr style=\"text-align: right;\">\n",
       "      <th></th>\n",
       "      <th>0</th>\n",
       "      <th>1</th>\n",
       "      <th>2</th>\n",
       "      <th>3</th>\n",
       "    </tr>\n",
       "  </thead>\n",
       "  <tbody>\n",
       "    <tr>\n",
       "      <th>0</th>\n",
       "      <td>0.136510</td>\n",
       "      <td>0.531408</td>\n",
       "      <td>0.191509</td>\n",
       "      <td>-0.239237</td>\n",
       "    </tr>\n",
       "    <tr>\n",
       "      <th>1</th>\n",
       "      <td>0.268552</td>\n",
       "      <td>-1.625319</td>\n",
       "      <td>1.657153</td>\n",
       "      <td>0.025545</td>\n",
       "    </tr>\n",
       "    <tr>\n",
       "      <th>2</th>\n",
       "      <td>-0.418964</td>\n",
       "      <td>0.930530</td>\n",
       "      <td>-0.894142</td>\n",
       "      <td>0.279551</td>\n",
       "    </tr>\n",
       "    <tr>\n",
       "      <th>3</th>\n",
       "      <td>0.644911</td>\n",
       "      <td>-0.909520</td>\n",
       "      <td>0.734916</td>\n",
       "      <td>-1.264387</td>\n",
       "    </tr>\n",
       "    <tr>\n",
       "      <th>4</th>\n",
       "      <td>1.605213</td>\n",
       "      <td>0.038262</td>\n",
       "      <td>-1.326913</td>\n",
       "      <td>-0.180171</td>\n",
       "    </tr>\n",
       "    <tr>\n",
       "      <th>5</th>\n",
       "      <td>-1.549690</td>\n",
       "      <td>-0.765274</td>\n",
       "      <td>0.681598</td>\n",
       "      <td>-2.025956</td>\n",
       "    </tr>\n",
       "  </tbody>\n",
       "</table>\n",
       "</div>"
      ],
      "text/plain": [
       "          0         1         2         3\n",
       "0  0.136510  0.531408  0.191509 -0.239237\n",
       "1  0.268552 -1.625319  1.657153  0.025545\n",
       "2 -0.418964  0.930530 -0.894142  0.279551\n",
       "3  0.644911 -0.909520  0.734916 -1.264387\n",
       "4  1.605213  0.038262 -1.326913 -0.180171\n",
       "5 -1.549690 -0.765274  0.681598 -2.025956"
      ]
     },
     "execution_count": 7,
     "metadata": {},
     "output_type": "execute_result"
    }
   ],
   "source": [
    "df1 = pd.DataFrame(np.random.randn(6,4))\n",
    "df1"
   ]
  },
  {
   "cell_type": "markdown",
   "metadata": {},
   "source": [
    "## 행별 열별로 정렬하기\n",
    "- 데이타프레임.sort_index(axis=0)\n",
    "- 데이타프레임.sort_index(axis=1)\n",
    "- 데이타프레임.sort_index(axis=0/1, ascending=Fales)\n",
    "- 원본 데이타프레임 데이타값은 변경이 없다"
   ]
  },
  {
   "cell_type": "code",
   "execution_count": 8,
   "metadata": {},
   "outputs": [
    {
     "data": {
      "text/html": [
       "<div>\n",
       "<style scoped>\n",
       "    .dataframe tbody tr th:only-of-type {\n",
       "        vertical-align: middle;\n",
       "    }\n",
       "\n",
       "    .dataframe tbody tr th {\n",
       "        vertical-align: top;\n",
       "    }\n",
       "\n",
       "    .dataframe thead th {\n",
       "        text-align: right;\n",
       "    }\n",
       "</style>\n",
       "<table border=\"1\" class=\"dataframe\">\n",
       "  <thead>\n",
       "    <tr style=\"text-align: right;\">\n",
       "      <th></th>\n",
       "      <th>0</th>\n",
       "      <th>1</th>\n",
       "      <th>2</th>\n",
       "      <th>3</th>\n",
       "    </tr>\n",
       "  </thead>\n",
       "  <tbody>\n",
       "    <tr>\n",
       "      <th>0</th>\n",
       "      <td>0.014579</td>\n",
       "      <td>-0.090628</td>\n",
       "      <td>-0.130999</td>\n",
       "      <td>-0.294366</td>\n",
       "    </tr>\n",
       "    <tr>\n",
       "      <th>1</th>\n",
       "      <td>-0.299498</td>\n",
       "      <td>0.369828</td>\n",
       "      <td>0.367780</td>\n",
       "      <td>2.111816</td>\n",
       "    </tr>\n",
       "    <tr>\n",
       "      <th>2</th>\n",
       "      <td>0.137368</td>\n",
       "      <td>1.588412</td>\n",
       "      <td>-1.184837</td>\n",
       "      <td>-0.968662</td>\n",
       "    </tr>\n",
       "    <tr>\n",
       "      <th>3</th>\n",
       "      <td>0.119871</td>\n",
       "      <td>0.122316</td>\n",
       "      <td>-0.318496</td>\n",
       "      <td>1.513069</td>\n",
       "    </tr>\n",
       "    <tr>\n",
       "      <th>4</th>\n",
       "      <td>-0.177293</td>\n",
       "      <td>0.264052</td>\n",
       "      <td>-0.628675</td>\n",
       "      <td>0.311503</td>\n",
       "    </tr>\n",
       "    <tr>\n",
       "      <th>5</th>\n",
       "      <td>0.606984</td>\n",
       "      <td>-0.070409</td>\n",
       "      <td>-0.812740</td>\n",
       "      <td>-1.350296</td>\n",
       "    </tr>\n",
       "  </tbody>\n",
       "</table>\n",
       "</div>"
      ],
      "text/plain": [
       "          0         1         2         3\n",
       "0  0.014579 -0.090628 -0.130999 -0.294366\n",
       "1 -0.299498  0.369828  0.367780  2.111816\n",
       "2  0.137368  1.588412 -1.184837 -0.968662\n",
       "3  0.119871  0.122316 -0.318496  1.513069\n",
       "4 -0.177293  0.264052 -0.628675  0.311503\n",
       "5  0.606984 -0.070409 -0.812740 -1.350296"
      ]
     },
     "execution_count": 8,
     "metadata": {},
     "output_type": "execute_result"
    }
   ],
   "source": [
    "df1 = pd.DataFrame(np.random.randn(6,4))\n",
    "df1"
   ]
  },
  {
   "cell_type": "code",
   "execution_count": 10,
   "metadata": {},
   "outputs": [
    {
     "data": {
      "text/html": [
       "<div>\n",
       "<style scoped>\n",
       "    .dataframe tbody tr th:only-of-type {\n",
       "        vertical-align: middle;\n",
       "    }\n",
       "\n",
       "    .dataframe tbody tr th {\n",
       "        vertical-align: top;\n",
       "    }\n",
       "\n",
       "    .dataframe thead th {\n",
       "        text-align: right;\n",
       "    }\n",
       "</style>\n",
       "<table border=\"1\" class=\"dataframe\">\n",
       "  <thead>\n",
       "    <tr style=\"text-align: right;\">\n",
       "      <th></th>\n",
       "      <th>B</th>\n",
       "      <th>A</th>\n",
       "      <th>D</th>\n",
       "      <th>C</th>\n",
       "    </tr>\n",
       "  </thead>\n",
       "  <tbody>\n",
       "    <tr>\n",
       "      <th>2019-01-22</th>\n",
       "      <td>0.014579</td>\n",
       "      <td>-0.090628</td>\n",
       "      <td>-0.130999</td>\n",
       "      <td>-0.294366</td>\n",
       "    </tr>\n",
       "    <tr>\n",
       "      <th>2019-01-23</th>\n",
       "      <td>-0.299498</td>\n",
       "      <td>0.369828</td>\n",
       "      <td>0.367780</td>\n",
       "      <td>2.111816</td>\n",
       "    </tr>\n",
       "    <tr>\n",
       "      <th>2019-01-24</th>\n",
       "      <td>0.137368</td>\n",
       "      <td>1.588412</td>\n",
       "      <td>-1.184837</td>\n",
       "      <td>-0.968662</td>\n",
       "    </tr>\n",
       "    <tr>\n",
       "      <th>2019-01-25</th>\n",
       "      <td>0.119871</td>\n",
       "      <td>0.122316</td>\n",
       "      <td>-0.318496</td>\n",
       "      <td>1.513069</td>\n",
       "    </tr>\n",
       "    <tr>\n",
       "      <th>2019-01-26</th>\n",
       "      <td>-0.177293</td>\n",
       "      <td>0.264052</td>\n",
       "      <td>-0.628675</td>\n",
       "      <td>0.311503</td>\n",
       "    </tr>\n",
       "    <tr>\n",
       "      <th>2019-01-27</th>\n",
       "      <td>0.606984</td>\n",
       "      <td>-0.070409</td>\n",
       "      <td>-0.812740</td>\n",
       "      <td>-1.350296</td>\n",
       "    </tr>\n",
       "  </tbody>\n",
       "</table>\n",
       "</div>"
      ],
      "text/plain": [
       "                   B         A         D         C\n",
       "2019-01-22  0.014579 -0.090628 -0.130999 -0.294366\n",
       "2019-01-23 -0.299498  0.369828  0.367780  2.111816\n",
       "2019-01-24  0.137368  1.588412 -1.184837 -0.968662\n",
       "2019-01-25  0.119871  0.122316 -0.318496  1.513069\n",
       "2019-01-26 -0.177293  0.264052 -0.628675  0.311503\n",
       "2019-01-27  0.606984 -0.070409 -0.812740 -1.350296"
      ]
     },
     "execution_count": 10,
     "metadata": {},
     "output_type": "execute_result"
    }
   ],
   "source": [
    "df1.columns = ['B','A','D','C']\n",
    "df1.index = pd.date_range('20190122',periods=6)\n",
    "df1"
   ]
  },
  {
   "cell_type": "code",
   "execution_count": 11,
   "metadata": {},
   "outputs": [
    {
     "data": {
      "text/plain": [
       "DatetimeIndex(['2019-01-22', '2019-01-23', '2019-01-24', '2019-01-25',\n",
       "               '2019-01-26', '2019-01-27'],\n",
       "              dtype='datetime64[ns]', freq='D')"
      ]
     },
     "execution_count": 11,
     "metadata": {},
     "output_type": "execute_result"
    }
   ],
   "source": [
    "# 행위치 조정하기\n",
    "df1.index"
   ]
  },
  {
   "cell_type": "code",
   "execution_count": 13,
   "metadata": {},
   "outputs": [
    {
     "data": {
      "text/html": [
       "<div>\n",
       "<style scoped>\n",
       "    .dataframe tbody tr th:only-of-type {\n",
       "        vertical-align: middle;\n",
       "    }\n",
       "\n",
       "    .dataframe tbody tr th {\n",
       "        vertical-align: top;\n",
       "    }\n",
       "\n",
       "    .dataframe thead th {\n",
       "        text-align: right;\n",
       "    }\n",
       "</style>\n",
       "<table border=\"1\" class=\"dataframe\">\n",
       "  <thead>\n",
       "    <tr style=\"text-align: right;\">\n",
       "      <th></th>\n",
       "      <th>B</th>\n",
       "      <th>A</th>\n",
       "      <th>D</th>\n",
       "      <th>C</th>\n",
       "    </tr>\n",
       "  </thead>\n",
       "  <tbody>\n",
       "    <tr>\n",
       "      <th>2019-01-27</th>\n",
       "      <td>0.014579</td>\n",
       "      <td>-0.090628</td>\n",
       "      <td>-0.130999</td>\n",
       "      <td>-0.294366</td>\n",
       "    </tr>\n",
       "    <tr>\n",
       "      <th>2019-01-25</th>\n",
       "      <td>-0.299498</td>\n",
       "      <td>0.369828</td>\n",
       "      <td>0.367780</td>\n",
       "      <td>2.111816</td>\n",
       "    </tr>\n",
       "    <tr>\n",
       "      <th>2019-01-23</th>\n",
       "      <td>0.137368</td>\n",
       "      <td>1.588412</td>\n",
       "      <td>-1.184837</td>\n",
       "      <td>-0.968662</td>\n",
       "    </tr>\n",
       "    <tr>\n",
       "      <th>2019-01-22</th>\n",
       "      <td>0.119871</td>\n",
       "      <td>0.122316</td>\n",
       "      <td>-0.318496</td>\n",
       "      <td>1.513069</td>\n",
       "    </tr>\n",
       "    <tr>\n",
       "      <th>2019-01-24</th>\n",
       "      <td>-0.177293</td>\n",
       "      <td>0.264052</td>\n",
       "      <td>-0.628675</td>\n",
       "      <td>0.311503</td>\n",
       "    </tr>\n",
       "    <tr>\n",
       "      <th>2019-01-26</th>\n",
       "      <td>0.606984</td>\n",
       "      <td>-0.070409</td>\n",
       "      <td>-0.812740</td>\n",
       "      <td>-1.350296</td>\n",
       "    </tr>\n",
       "  </tbody>\n",
       "</table>\n",
       "</div>"
      ],
      "text/plain": [
       "                   B         A         D         C\n",
       "2019-01-27  0.014579 -0.090628 -0.130999 -0.294366\n",
       "2019-01-25 -0.299498  0.369828  0.367780  2.111816\n",
       "2019-01-23  0.137368  1.588412 -1.184837 -0.968662\n",
       "2019-01-22  0.119871  0.122316 -0.318496  1.513069\n",
       "2019-01-24 -0.177293  0.264052 -0.628675  0.311503\n",
       "2019-01-26  0.606984 -0.070409 -0.812740 -1.350296"
      ]
     },
     "execution_count": 13,
     "metadata": {},
     "output_type": "execute_result"
    }
   ],
   "source": [
    "df1.index=['2019-01-27','2019-01-25','2019-01-23','2019-01-22','2019-01-24','2019-01-26']\n",
    "df1"
   ]
  },
  {
   "cell_type": "code",
   "execution_count": 14,
   "metadata": {},
   "outputs": [
    {
     "data": {
      "text/html": [
       "<div>\n",
       "<style scoped>\n",
       "    .dataframe tbody tr th:only-of-type {\n",
       "        vertical-align: middle;\n",
       "    }\n",
       "\n",
       "    .dataframe tbody tr th {\n",
       "        vertical-align: top;\n",
       "    }\n",
       "\n",
       "    .dataframe thead th {\n",
       "        text-align: right;\n",
       "    }\n",
       "</style>\n",
       "<table border=\"1\" class=\"dataframe\">\n",
       "  <thead>\n",
       "    <tr style=\"text-align: right;\">\n",
       "      <th></th>\n",
       "      <th>B</th>\n",
       "      <th>A</th>\n",
       "      <th>D</th>\n",
       "      <th>C</th>\n",
       "    </tr>\n",
       "  </thead>\n",
       "  <tbody>\n",
       "    <tr>\n",
       "      <th>2019-01-22</th>\n",
       "      <td>0.119871</td>\n",
       "      <td>0.122316</td>\n",
       "      <td>-0.318496</td>\n",
       "      <td>1.513069</td>\n",
       "    </tr>\n",
       "    <tr>\n",
       "      <th>2019-01-23</th>\n",
       "      <td>0.137368</td>\n",
       "      <td>1.588412</td>\n",
       "      <td>-1.184837</td>\n",
       "      <td>-0.968662</td>\n",
       "    </tr>\n",
       "    <tr>\n",
       "      <th>2019-01-24</th>\n",
       "      <td>-0.177293</td>\n",
       "      <td>0.264052</td>\n",
       "      <td>-0.628675</td>\n",
       "      <td>0.311503</td>\n",
       "    </tr>\n",
       "    <tr>\n",
       "      <th>2019-01-25</th>\n",
       "      <td>-0.299498</td>\n",
       "      <td>0.369828</td>\n",
       "      <td>0.367780</td>\n",
       "      <td>2.111816</td>\n",
       "    </tr>\n",
       "    <tr>\n",
       "      <th>2019-01-26</th>\n",
       "      <td>0.606984</td>\n",
       "      <td>-0.070409</td>\n",
       "      <td>-0.812740</td>\n",
       "      <td>-1.350296</td>\n",
       "    </tr>\n",
       "    <tr>\n",
       "      <th>2019-01-27</th>\n",
       "      <td>0.014579</td>\n",
       "      <td>-0.090628</td>\n",
       "      <td>-0.130999</td>\n",
       "      <td>-0.294366</td>\n",
       "    </tr>\n",
       "  </tbody>\n",
       "</table>\n",
       "</div>"
      ],
      "text/plain": [
       "                   B         A         D         C\n",
       "2019-01-22  0.119871  0.122316 -0.318496  1.513069\n",
       "2019-01-23  0.137368  1.588412 -1.184837 -0.968662\n",
       "2019-01-24 -0.177293  0.264052 -0.628675  0.311503\n",
       "2019-01-25 -0.299498  0.369828  0.367780  2.111816\n",
       "2019-01-26  0.606984 -0.070409 -0.812740 -1.350296\n",
       "2019-01-27  0.014579 -0.090628 -0.130999 -0.294366"
      ]
     },
     "execution_count": 14,
     "metadata": {},
     "output_type": "execute_result"
    }
   ],
   "source": [
    "# 정렬 - 행의 인덱스 기준, 오름차순\n",
    "df1.sort_index(axis=0)"
   ]
  },
  {
   "cell_type": "code",
   "execution_count": 15,
   "metadata": {},
   "outputs": [
    {
     "data": {
      "text/html": [
       "<div>\n",
       "<style scoped>\n",
       "    .dataframe tbody tr th:only-of-type {\n",
       "        vertical-align: middle;\n",
       "    }\n",
       "\n",
       "    .dataframe tbody tr th {\n",
       "        vertical-align: top;\n",
       "    }\n",
       "\n",
       "    .dataframe thead th {\n",
       "        text-align: right;\n",
       "    }\n",
       "</style>\n",
       "<table border=\"1\" class=\"dataframe\">\n",
       "  <thead>\n",
       "    <tr style=\"text-align: right;\">\n",
       "      <th></th>\n",
       "      <th>B</th>\n",
       "      <th>A</th>\n",
       "      <th>D</th>\n",
       "      <th>C</th>\n",
       "    </tr>\n",
       "  </thead>\n",
       "  <tbody>\n",
       "    <tr>\n",
       "      <th>2019-01-27</th>\n",
       "      <td>0.014579</td>\n",
       "      <td>-0.090628</td>\n",
       "      <td>-0.130999</td>\n",
       "      <td>-0.294366</td>\n",
       "    </tr>\n",
       "    <tr>\n",
       "      <th>2019-01-26</th>\n",
       "      <td>0.606984</td>\n",
       "      <td>-0.070409</td>\n",
       "      <td>-0.812740</td>\n",
       "      <td>-1.350296</td>\n",
       "    </tr>\n",
       "    <tr>\n",
       "      <th>2019-01-25</th>\n",
       "      <td>-0.299498</td>\n",
       "      <td>0.369828</td>\n",
       "      <td>0.367780</td>\n",
       "      <td>2.111816</td>\n",
       "    </tr>\n",
       "    <tr>\n",
       "      <th>2019-01-24</th>\n",
       "      <td>-0.177293</td>\n",
       "      <td>0.264052</td>\n",
       "      <td>-0.628675</td>\n",
       "      <td>0.311503</td>\n",
       "    </tr>\n",
       "    <tr>\n",
       "      <th>2019-01-23</th>\n",
       "      <td>0.137368</td>\n",
       "      <td>1.588412</td>\n",
       "      <td>-1.184837</td>\n",
       "      <td>-0.968662</td>\n",
       "    </tr>\n",
       "    <tr>\n",
       "      <th>2019-01-22</th>\n",
       "      <td>0.119871</td>\n",
       "      <td>0.122316</td>\n",
       "      <td>-0.318496</td>\n",
       "      <td>1.513069</td>\n",
       "    </tr>\n",
       "  </tbody>\n",
       "</table>\n",
       "</div>"
      ],
      "text/plain": [
       "                   B         A         D         C\n",
       "2019-01-27  0.014579 -0.090628 -0.130999 -0.294366\n",
       "2019-01-26  0.606984 -0.070409 -0.812740 -1.350296\n",
       "2019-01-25 -0.299498  0.369828  0.367780  2.111816\n",
       "2019-01-24 -0.177293  0.264052 -0.628675  0.311503\n",
       "2019-01-23  0.137368  1.588412 -1.184837 -0.968662\n",
       "2019-01-22  0.119871  0.122316 -0.318496  1.513069"
      ]
     },
     "execution_count": 15,
     "metadata": {},
     "output_type": "execute_result"
    }
   ],
   "source": [
    "# 정렬 - 행의 인덱스 기준, 내림차순\n",
    "df1.sort_index(axis=0, ascending=False)"
   ]
  },
  {
   "cell_type": "code",
   "execution_count": 16,
   "metadata": {},
   "outputs": [
    {
     "data": {
      "text/html": [
       "<div>\n",
       "<style scoped>\n",
       "    .dataframe tbody tr th:only-of-type {\n",
       "        vertical-align: middle;\n",
       "    }\n",
       "\n",
       "    .dataframe tbody tr th {\n",
       "        vertical-align: top;\n",
       "    }\n",
       "\n",
       "    .dataframe thead th {\n",
       "        text-align: right;\n",
       "    }\n",
       "</style>\n",
       "<table border=\"1\" class=\"dataframe\">\n",
       "  <thead>\n",
       "    <tr style=\"text-align: right;\">\n",
       "      <th></th>\n",
       "      <th>D</th>\n",
       "      <th>C</th>\n",
       "      <th>B</th>\n",
       "      <th>A</th>\n",
       "    </tr>\n",
       "  </thead>\n",
       "  <tbody>\n",
       "    <tr>\n",
       "      <th>2019-01-27</th>\n",
       "      <td>-0.130999</td>\n",
       "      <td>-0.294366</td>\n",
       "      <td>0.014579</td>\n",
       "      <td>-0.090628</td>\n",
       "    </tr>\n",
       "    <tr>\n",
       "      <th>2019-01-25</th>\n",
       "      <td>0.367780</td>\n",
       "      <td>2.111816</td>\n",
       "      <td>-0.299498</td>\n",
       "      <td>0.369828</td>\n",
       "    </tr>\n",
       "    <tr>\n",
       "      <th>2019-01-23</th>\n",
       "      <td>-1.184837</td>\n",
       "      <td>-0.968662</td>\n",
       "      <td>0.137368</td>\n",
       "      <td>1.588412</td>\n",
       "    </tr>\n",
       "    <tr>\n",
       "      <th>2019-01-22</th>\n",
       "      <td>-0.318496</td>\n",
       "      <td>1.513069</td>\n",
       "      <td>0.119871</td>\n",
       "      <td>0.122316</td>\n",
       "    </tr>\n",
       "    <tr>\n",
       "      <th>2019-01-24</th>\n",
       "      <td>-0.628675</td>\n",
       "      <td>0.311503</td>\n",
       "      <td>-0.177293</td>\n",
       "      <td>0.264052</td>\n",
       "    </tr>\n",
       "    <tr>\n",
       "      <th>2019-01-26</th>\n",
       "      <td>-0.812740</td>\n",
       "      <td>-1.350296</td>\n",
       "      <td>0.606984</td>\n",
       "      <td>-0.070409</td>\n",
       "    </tr>\n",
       "  </tbody>\n",
       "</table>\n",
       "</div>"
      ],
      "text/plain": [
       "                   D         C         B         A\n",
       "2019-01-27 -0.130999 -0.294366  0.014579 -0.090628\n",
       "2019-01-25  0.367780  2.111816 -0.299498  0.369828\n",
       "2019-01-23 -1.184837 -0.968662  0.137368  1.588412\n",
       "2019-01-22 -0.318496  1.513069  0.119871  0.122316\n",
       "2019-01-24 -0.628675  0.311503 -0.177293  0.264052\n",
       "2019-01-26 -0.812740 -1.350296  0.606984 -0.070409"
      ]
     },
     "execution_count": 16,
     "metadata": {},
     "output_type": "execute_result"
    }
   ],
   "source": [
    "# 정렬 - 열의 인덱스 기준, 내림차순\n",
    "df1.sort_index(axis=1, ascending=False)"
   ]
  },
  {
   "cell_type": "code",
   "execution_count": 17,
   "metadata": {},
   "outputs": [
    {
     "data": {
      "text/html": [
       "<div>\n",
       "<style scoped>\n",
       "    .dataframe tbody tr th:only-of-type {\n",
       "        vertical-align: middle;\n",
       "    }\n",
       "\n",
       "    .dataframe tbody tr th {\n",
       "        vertical-align: top;\n",
       "    }\n",
       "\n",
       "    .dataframe thead th {\n",
       "        text-align: right;\n",
       "    }\n",
       "</style>\n",
       "<table border=\"1\" class=\"dataframe\">\n",
       "  <thead>\n",
       "    <tr style=\"text-align: right;\">\n",
       "      <th></th>\n",
       "      <th>A</th>\n",
       "      <th>B</th>\n",
       "      <th>C</th>\n",
       "      <th>D</th>\n",
       "    </tr>\n",
       "  </thead>\n",
       "  <tbody>\n",
       "    <tr>\n",
       "      <th>2019-01-27</th>\n",
       "      <td>-0.090628</td>\n",
       "      <td>0.014579</td>\n",
       "      <td>-0.294366</td>\n",
       "      <td>-0.130999</td>\n",
       "    </tr>\n",
       "    <tr>\n",
       "      <th>2019-01-25</th>\n",
       "      <td>0.369828</td>\n",
       "      <td>-0.299498</td>\n",
       "      <td>2.111816</td>\n",
       "      <td>0.367780</td>\n",
       "    </tr>\n",
       "    <tr>\n",
       "      <th>2019-01-23</th>\n",
       "      <td>1.588412</td>\n",
       "      <td>0.137368</td>\n",
       "      <td>-0.968662</td>\n",
       "      <td>-1.184837</td>\n",
       "    </tr>\n",
       "    <tr>\n",
       "      <th>2019-01-22</th>\n",
       "      <td>0.122316</td>\n",
       "      <td>0.119871</td>\n",
       "      <td>1.513069</td>\n",
       "      <td>-0.318496</td>\n",
       "    </tr>\n",
       "    <tr>\n",
       "      <th>2019-01-24</th>\n",
       "      <td>0.264052</td>\n",
       "      <td>-0.177293</td>\n",
       "      <td>0.311503</td>\n",
       "      <td>-0.628675</td>\n",
       "    </tr>\n",
       "    <tr>\n",
       "      <th>2019-01-26</th>\n",
       "      <td>-0.070409</td>\n",
       "      <td>0.606984</td>\n",
       "      <td>-1.350296</td>\n",
       "      <td>-0.812740</td>\n",
       "    </tr>\n",
       "  </tbody>\n",
       "</table>\n",
       "</div>"
      ],
      "text/plain": [
       "                   A         B         C         D\n",
       "2019-01-27 -0.090628  0.014579 -0.294366 -0.130999\n",
       "2019-01-25  0.369828 -0.299498  2.111816  0.367780\n",
       "2019-01-23  1.588412  0.137368 -0.968662 -1.184837\n",
       "2019-01-22  0.122316  0.119871  1.513069 -0.318496\n",
       "2019-01-24  0.264052 -0.177293  0.311503 -0.628675\n",
       "2019-01-26 -0.070409  0.606984 -1.350296 -0.812740"
      ]
     },
     "execution_count": 17,
     "metadata": {},
     "output_type": "execute_result"
    }
   ],
   "source": [
    "# 정렬 - 열의 인덱스 기준, 오름차순\n",
    "df1.sort_index(axis=1)"
   ]
  },
  {
   "cell_type": "markdown",
   "metadata": {},
   "source": [
    "## 값 기준으로 정렬하기\n",
    "- 데이타프레임이름.sort_values(by=\"컬럼명\")"
   ]
  },
  {
   "cell_type": "code",
   "execution_count": 18,
   "metadata": {},
   "outputs": [
    {
     "data": {
      "text/html": [
       "<div>\n",
       "<style scoped>\n",
       "    .dataframe tbody tr th:only-of-type {\n",
       "        vertical-align: middle;\n",
       "    }\n",
       "\n",
       "    .dataframe tbody tr th {\n",
       "        vertical-align: top;\n",
       "    }\n",
       "\n",
       "    .dataframe thead th {\n",
       "        text-align: right;\n",
       "    }\n",
       "</style>\n",
       "<table border=\"1\" class=\"dataframe\">\n",
       "  <thead>\n",
       "    <tr style=\"text-align: right;\">\n",
       "      <th></th>\n",
       "      <th>B</th>\n",
       "      <th>A</th>\n",
       "      <th>D</th>\n",
       "      <th>C</th>\n",
       "    </tr>\n",
       "  </thead>\n",
       "  <tbody>\n",
       "    <tr>\n",
       "      <th>2019-01-27</th>\n",
       "      <td>0.014579</td>\n",
       "      <td>-0.090628</td>\n",
       "      <td>-0.130999</td>\n",
       "      <td>-0.294366</td>\n",
       "    </tr>\n",
       "    <tr>\n",
       "      <th>2019-01-25</th>\n",
       "      <td>-0.299498</td>\n",
       "      <td>0.369828</td>\n",
       "      <td>0.367780</td>\n",
       "      <td>2.111816</td>\n",
       "    </tr>\n",
       "    <tr>\n",
       "      <th>2019-01-23</th>\n",
       "      <td>0.137368</td>\n",
       "      <td>1.588412</td>\n",
       "      <td>-1.184837</td>\n",
       "      <td>-0.968662</td>\n",
       "    </tr>\n",
       "    <tr>\n",
       "      <th>2019-01-22</th>\n",
       "      <td>0.119871</td>\n",
       "      <td>0.122316</td>\n",
       "      <td>-0.318496</td>\n",
       "      <td>1.513069</td>\n",
       "    </tr>\n",
       "    <tr>\n",
       "      <th>2019-01-24</th>\n",
       "      <td>-0.177293</td>\n",
       "      <td>0.264052</td>\n",
       "      <td>-0.628675</td>\n",
       "      <td>0.311503</td>\n",
       "    </tr>\n",
       "    <tr>\n",
       "      <th>2019-01-26</th>\n",
       "      <td>0.606984</td>\n",
       "      <td>-0.070409</td>\n",
       "      <td>-0.812740</td>\n",
       "      <td>-1.350296</td>\n",
       "    </tr>\n",
       "  </tbody>\n",
       "</table>\n",
       "</div>"
      ],
      "text/plain": [
       "                   B         A         D         C\n",
       "2019-01-27  0.014579 -0.090628 -0.130999 -0.294366\n",
       "2019-01-25 -0.299498  0.369828  0.367780  2.111816\n",
       "2019-01-23  0.137368  1.588412 -1.184837 -0.968662\n",
       "2019-01-22  0.119871  0.122316 -0.318496  1.513069\n",
       "2019-01-24 -0.177293  0.264052 -0.628675  0.311503\n",
       "2019-01-26  0.606984 -0.070409 -0.812740 -1.350296"
      ]
     },
     "execution_count": 18,
     "metadata": {},
     "output_type": "execute_result"
    }
   ],
   "source": [
    "df1"
   ]
  },
  {
   "cell_type": "code",
   "execution_count": 20,
   "metadata": {
    "scrolled": true
   },
   "outputs": [
    {
     "data": {
      "text/html": [
       "<div>\n",
       "<style scoped>\n",
       "    .dataframe tbody tr th:only-of-type {\n",
       "        vertical-align: middle;\n",
       "    }\n",
       "\n",
       "    .dataframe tbody tr th {\n",
       "        vertical-align: top;\n",
       "    }\n",
       "\n",
       "    .dataframe thead th {\n",
       "        text-align: right;\n",
       "    }\n",
       "</style>\n",
       "<table border=\"1\" class=\"dataframe\">\n",
       "  <thead>\n",
       "    <tr style=\"text-align: right;\">\n",
       "      <th></th>\n",
       "      <th>B</th>\n",
       "      <th>A</th>\n",
       "      <th>D</th>\n",
       "      <th>C</th>\n",
       "    </tr>\n",
       "  </thead>\n",
       "  <tbody>\n",
       "    <tr>\n",
       "      <th>2019-01-25</th>\n",
       "      <td>-0.299498</td>\n",
       "      <td>0.369828</td>\n",
       "      <td>0.367780</td>\n",
       "      <td>2.111816</td>\n",
       "    </tr>\n",
       "    <tr>\n",
       "      <th>2019-01-24</th>\n",
       "      <td>-0.177293</td>\n",
       "      <td>0.264052</td>\n",
       "      <td>-0.628675</td>\n",
       "      <td>0.311503</td>\n",
       "    </tr>\n",
       "    <tr>\n",
       "      <th>2019-01-27</th>\n",
       "      <td>0.014579</td>\n",
       "      <td>-0.090628</td>\n",
       "      <td>-0.130999</td>\n",
       "      <td>-0.294366</td>\n",
       "    </tr>\n",
       "    <tr>\n",
       "      <th>2019-01-22</th>\n",
       "      <td>0.119871</td>\n",
       "      <td>0.122316</td>\n",
       "      <td>-0.318496</td>\n",
       "      <td>1.513069</td>\n",
       "    </tr>\n",
       "    <tr>\n",
       "      <th>2019-01-23</th>\n",
       "      <td>0.137368</td>\n",
       "      <td>1.588412</td>\n",
       "      <td>-1.184837</td>\n",
       "      <td>-0.968662</td>\n",
       "    </tr>\n",
       "    <tr>\n",
       "      <th>2019-01-26</th>\n",
       "      <td>0.606984</td>\n",
       "      <td>-0.070409</td>\n",
       "      <td>-0.812740</td>\n",
       "      <td>-1.350296</td>\n",
       "    </tr>\n",
       "  </tbody>\n",
       "</table>\n",
       "</div>"
      ],
      "text/plain": [
       "                   B         A         D         C\n",
       "2019-01-25 -0.299498  0.369828  0.367780  2.111816\n",
       "2019-01-24 -0.177293  0.264052 -0.628675  0.311503\n",
       "2019-01-27  0.014579 -0.090628 -0.130999 -0.294366\n",
       "2019-01-22  0.119871  0.122316 -0.318496  1.513069\n",
       "2019-01-23  0.137368  1.588412 -1.184837 -0.968662\n",
       "2019-01-26  0.606984 -0.070409 -0.812740 -1.350296"
      ]
     },
     "execution_count": 20,
     "metadata": {},
     "output_type": "execute_result"
    }
   ],
   "source": [
    "result = df1.sort_values(by='B')\n",
    "result"
   ]
  },
  {
   "cell_type": "code",
   "execution_count": 21,
   "metadata": {},
   "outputs": [
    {
     "data": {
      "text/plain": [
       "2019-01-25   -0.299498\n",
       "2019-01-24   -0.177293\n",
       "2019-01-27    0.014579\n",
       "2019-01-22    0.119871\n",
       "2019-01-23    0.137368\n",
       "2019-01-26    0.606984\n",
       "Name: B, dtype: float64"
      ]
     },
     "execution_count": 21,
     "metadata": {},
     "output_type": "execute_result"
    }
   ],
   "source": [
    "# Series 로 추출\n",
    "result.B"
   ]
  },
  {
   "cell_type": "markdown",
   "metadata": {},
   "source": [
    "## 중복 제거하기\n",
    "- 데이타이름[열이름].unique()\n",
    "- ===> 카테고리를 만들 때 주로 사용한다. '카테고리화'할 데이터\n",
    "- ===> 그룹핑할때"
   ]
  },
  {
   "cell_type": "code",
   "execution_count": 22,
   "metadata": {},
   "outputs": [
    {
     "data": {
      "text/html": [
       "<div>\n",
       "<style scoped>\n",
       "    .dataframe tbody tr th:only-of-type {\n",
       "        vertical-align: middle;\n",
       "    }\n",
       "\n",
       "    .dataframe tbody tr th {\n",
       "        vertical-align: top;\n",
       "    }\n",
       "\n",
       "    .dataframe thead th {\n",
       "        text-align: right;\n",
       "    }\n",
       "</style>\n",
       "<table border=\"1\" class=\"dataframe\">\n",
       "  <thead>\n",
       "    <tr style=\"text-align: right;\">\n",
       "      <th></th>\n",
       "      <th>B</th>\n",
       "      <th>A</th>\n",
       "      <th>D</th>\n",
       "      <th>C</th>\n",
       "    </tr>\n",
       "  </thead>\n",
       "  <tbody>\n",
       "    <tr>\n",
       "      <th>2019-01-27</th>\n",
       "      <td>0.014579</td>\n",
       "      <td>-0.090628</td>\n",
       "      <td>-0.130999</td>\n",
       "      <td>-0.294366</td>\n",
       "    </tr>\n",
       "    <tr>\n",
       "      <th>2019-01-25</th>\n",
       "      <td>-0.299498</td>\n",
       "      <td>0.369828</td>\n",
       "      <td>0.367780</td>\n",
       "      <td>2.111816</td>\n",
       "    </tr>\n",
       "    <tr>\n",
       "      <th>2019-01-23</th>\n",
       "      <td>0.137368</td>\n",
       "      <td>1.588412</td>\n",
       "      <td>-1.184837</td>\n",
       "      <td>-0.968662</td>\n",
       "    </tr>\n",
       "    <tr>\n",
       "      <th>2019-01-22</th>\n",
       "      <td>0.119871</td>\n",
       "      <td>0.122316</td>\n",
       "      <td>-0.318496</td>\n",
       "      <td>1.513069</td>\n",
       "    </tr>\n",
       "    <tr>\n",
       "      <th>2019-01-24</th>\n",
       "      <td>-0.177293</td>\n",
       "      <td>0.264052</td>\n",
       "      <td>-0.628675</td>\n",
       "      <td>0.311503</td>\n",
       "    </tr>\n",
       "    <tr>\n",
       "      <th>2019-01-26</th>\n",
       "      <td>0.606984</td>\n",
       "      <td>-0.070409</td>\n",
       "      <td>-0.812740</td>\n",
       "      <td>-1.350296</td>\n",
       "    </tr>\n",
       "  </tbody>\n",
       "</table>\n",
       "</div>"
      ],
      "text/plain": [
       "                   B         A         D         C\n",
       "2019-01-27  0.014579 -0.090628 -0.130999 -0.294366\n",
       "2019-01-25 -0.299498  0.369828  0.367780  2.111816\n",
       "2019-01-23  0.137368  1.588412 -1.184837 -0.968662\n",
       "2019-01-22  0.119871  0.122316 -0.318496  1.513069\n",
       "2019-01-24 -0.177293  0.264052 -0.628675  0.311503\n",
       "2019-01-26  0.606984 -0.070409 -0.812740 -1.350296"
      ]
     },
     "execution_count": 22,
     "metadata": {},
     "output_type": "execute_result"
    }
   ],
   "source": [
    "df1"
   ]
  },
  {
   "cell_type": "code",
   "execution_count": 23,
   "metadata": {},
   "outputs": [
    {
     "data": {
      "text/html": [
       "<div>\n",
       "<style scoped>\n",
       "    .dataframe tbody tr th:only-of-type {\n",
       "        vertical-align: middle;\n",
       "    }\n",
       "\n",
       "    .dataframe tbody tr th {\n",
       "        vertical-align: top;\n",
       "    }\n",
       "\n",
       "    .dataframe thead th {\n",
       "        text-align: right;\n",
       "    }\n",
       "</style>\n",
       "<table border=\"1\" class=\"dataframe\">\n",
       "  <thead>\n",
       "    <tr style=\"text-align: right;\">\n",
       "      <th></th>\n",
       "      <th>B</th>\n",
       "      <th>A</th>\n",
       "      <th>D</th>\n",
       "      <th>C</th>\n",
       "      <th>E</th>\n",
       "      <th>F</th>\n",
       "    </tr>\n",
       "  </thead>\n",
       "  <tbody>\n",
       "    <tr>\n",
       "      <th>2019-01-27</th>\n",
       "      <td>0.014579</td>\n",
       "      <td>-0.090628</td>\n",
       "      <td>-0.130999</td>\n",
       "      <td>-0.294366</td>\n",
       "      <td>1</td>\n",
       "      <td>alpha</td>\n",
       "    </tr>\n",
       "    <tr>\n",
       "      <th>2019-01-25</th>\n",
       "      <td>-0.299498</td>\n",
       "      <td>0.369828</td>\n",
       "      <td>0.367780</td>\n",
       "      <td>2.111816</td>\n",
       "      <td>4</td>\n",
       "      <td>beta</td>\n",
       "    </tr>\n",
       "    <tr>\n",
       "      <th>2019-01-23</th>\n",
       "      <td>0.137368</td>\n",
       "      <td>1.588412</td>\n",
       "      <td>-1.184837</td>\n",
       "      <td>-0.968662</td>\n",
       "      <td>5</td>\n",
       "      <td>gamma</td>\n",
       "    </tr>\n",
       "    <tr>\n",
       "      <th>2019-01-22</th>\n",
       "      <td>0.119871</td>\n",
       "      <td>0.122316</td>\n",
       "      <td>-0.318496</td>\n",
       "      <td>1.513069</td>\n",
       "      <td>5</td>\n",
       "      <td>gamma</td>\n",
       "    </tr>\n",
       "    <tr>\n",
       "      <th>2019-01-24</th>\n",
       "      <td>-0.177293</td>\n",
       "      <td>0.264052</td>\n",
       "      <td>-0.628675</td>\n",
       "      <td>0.311503</td>\n",
       "      <td>3</td>\n",
       "      <td>alpha</td>\n",
       "    </tr>\n",
       "    <tr>\n",
       "      <th>2019-01-26</th>\n",
       "      <td>0.606984</td>\n",
       "      <td>-0.070409</td>\n",
       "      <td>-0.812740</td>\n",
       "      <td>-1.350296</td>\n",
       "      <td>4</td>\n",
       "      <td>gamma</td>\n",
       "    </tr>\n",
       "  </tbody>\n",
       "</table>\n",
       "</div>"
      ],
      "text/plain": [
       "                   B         A         D         C  E      F\n",
       "2019-01-27  0.014579 -0.090628 -0.130999 -0.294366  1  alpha\n",
       "2019-01-25 -0.299498  0.369828  0.367780  2.111816  4   beta\n",
       "2019-01-23  0.137368  1.588412 -1.184837 -0.968662  5  gamma\n",
       "2019-01-22  0.119871  0.122316 -0.318496  1.513069  5  gamma\n",
       "2019-01-24 -0.177293  0.264052 -0.628675  0.311503  3  alpha\n",
       "2019-01-26  0.606984 -0.070409 -0.812740 -1.350296  4  gamma"
      ]
     },
     "execution_count": 23,
     "metadata": {},
     "output_type": "execute_result"
    }
   ],
   "source": [
    "# 컬럼 추가\n",
    "# 2개의 새로운 컬럼 추가\n",
    "df1[\"E\"] = [1,4,5,5,3,4]\n",
    "df1[\"F\"] = [\"alpha\",\"beta\",\"gamma\",\"gamma\",\"alpha\",\"gamma\"]\n",
    "df1"
   ]
  },
  {
   "cell_type": "code",
   "execution_count": 24,
   "metadata": {},
   "outputs": [
    {
     "data": {
      "text/plain": [
       "array([1, 4, 5, 3], dtype=int64)"
      ]
     },
     "execution_count": 24,
     "metadata": {},
     "output_type": "execute_result"
    }
   ],
   "source": [
    "df1['E'].unique()"
   ]
  },
  {
   "cell_type": "code",
   "execution_count": 25,
   "metadata": {},
   "outputs": [
    {
     "data": {
      "text/plain": [
       "array(['alpha', 'beta', 'gamma'], dtype=object)"
      ]
     },
     "execution_count": 25,
     "metadata": {},
     "output_type": "execute_result"
    }
   ],
   "source": [
    "df1['F'].unique()"
   ]
  },
  {
   "cell_type": "markdown",
   "metadata": {},
   "source": [
    "## 특정값의 카운트\n",
    "- 데이터프레임이름[열이름].value_counts()"
   ]
  },
  {
   "cell_type": "code",
   "execution_count": 26,
   "metadata": {},
   "outputs": [
    {
     "data": {
      "text/html": [
       "<div>\n",
       "<style scoped>\n",
       "    .dataframe tbody tr th:only-of-type {\n",
       "        vertical-align: middle;\n",
       "    }\n",
       "\n",
       "    .dataframe tbody tr th {\n",
       "        vertical-align: top;\n",
       "    }\n",
       "\n",
       "    .dataframe thead th {\n",
       "        text-align: right;\n",
       "    }\n",
       "</style>\n",
       "<table border=\"1\" class=\"dataframe\">\n",
       "  <thead>\n",
       "    <tr style=\"text-align: right;\">\n",
       "      <th></th>\n",
       "      <th>A</th>\n",
       "      <th>B</th>\n",
       "      <th>C</th>\n",
       "      <th>D</th>\n",
       "      <th>E</th>\n",
       "    </tr>\n",
       "  </thead>\n",
       "  <tbody>\n",
       "    <tr>\n",
       "      <th>2019-01-22</th>\n",
       "      <td>-0.381007</td>\n",
       "      <td>1.515318</td>\n",
       "      <td>-0.609650</td>\n",
       "      <td>-1.513261</td>\n",
       "      <td>alpha</td>\n",
       "    </tr>\n",
       "    <tr>\n",
       "      <th>2019-01-23</th>\n",
       "      <td>-0.256419</td>\n",
       "      <td>1.018062</td>\n",
       "      <td>-0.761567</td>\n",
       "      <td>-0.695517</td>\n",
       "      <td>beta</td>\n",
       "    </tr>\n",
       "    <tr>\n",
       "      <th>2019-01-24</th>\n",
       "      <td>-1.018401</td>\n",
       "      <td>2.058475</td>\n",
       "      <td>0.665390</td>\n",
       "      <td>-0.415140</td>\n",
       "      <td>gamma</td>\n",
       "    </tr>\n",
       "    <tr>\n",
       "      <th>2019-01-25</th>\n",
       "      <td>-1.364938</td>\n",
       "      <td>2.325372</td>\n",
       "      <td>-0.276195</td>\n",
       "      <td>-0.724386</td>\n",
       "      <td>gamma</td>\n",
       "    </tr>\n",
       "    <tr>\n",
       "      <th>2019-01-26</th>\n",
       "      <td>0.887645</td>\n",
       "      <td>-2.429038</td>\n",
       "      <td>-0.399489</td>\n",
       "      <td>-0.077523</td>\n",
       "      <td>alpha</td>\n",
       "    </tr>\n",
       "    <tr>\n",
       "      <th>2019-01-27</th>\n",
       "      <td>0.924454</td>\n",
       "      <td>0.565099</td>\n",
       "      <td>3.211619</td>\n",
       "      <td>0.985656</td>\n",
       "      <td>gamma</td>\n",
       "    </tr>\n",
       "  </tbody>\n",
       "</table>\n",
       "</div>"
      ],
      "text/plain": [
       "                   A         B         C         D      E\n",
       "2019-01-22 -0.381007  1.515318 -0.609650 -1.513261  alpha\n",
       "2019-01-23 -0.256419  1.018062 -0.761567 -0.695517   beta\n",
       "2019-01-24 -1.018401  2.058475  0.665390 -0.415140  gamma\n",
       "2019-01-25 -1.364938  2.325372 -0.276195 -0.724386  gamma\n",
       "2019-01-26  0.887645 -2.429038 -0.399489 -0.077523  alpha\n",
       "2019-01-27  0.924454  0.565099  3.211619  0.985656  gamma"
      ]
     },
     "execution_count": 26,
     "metadata": {},
     "output_type": "execute_result"
    }
   ],
   "source": [
    "df2 = pd.DataFrame(np.random.randn(6,4),\n",
    "                  columns = ['A','B','C','D'],\n",
    "                  index = pd.date_range('20190122',periods=6))\n",
    "df2[\"E\"] = [\"alpha\",\"beta\",\"gamma\",\"gamma\",\"alpha\",\"gamma\"]\n",
    "df2"
   ]
  },
  {
   "cell_type": "code",
   "execution_count": 27,
   "metadata": {},
   "outputs": [
    {
     "data": {
      "text/plain": [
       "gamma    3\n",
       "alpha    2\n",
       "beta     1\n",
       "Name: E, dtype: int64"
      ]
     },
     "execution_count": 27,
     "metadata": {},
     "output_type": "execute_result"
    }
   ],
   "source": [
    "df2[\"E\"].value_counts()"
   ]
  },
  {
   "cell_type": "code",
   "execution_count": 28,
   "metadata": {},
   "outputs": [
    {
     "data": {
      "text/plain": [
       "-1.018401    1\n",
       " 0.924454    1\n",
       "-0.256419    1\n",
       " 0.887645    1\n",
       "-1.364938    1\n",
       "-0.381007    1\n",
       "Name: A, dtype: int64"
      ]
     },
     "execution_count": 28,
     "metadata": {},
     "output_type": "execute_result"
    }
   ],
   "source": [
    "df2[\"A\"].value_counts()"
   ]
  },
  {
   "cell_type": "markdown",
   "metadata": {},
   "source": [
    "isin 함수 이용하기\n",
    "- 데이타프레임이름.isin([데이타값1,데이타값2])\n",
    "- 데이타프레임이름[컬럼명].isin([데이터값1, 데이터값2])\n",
    "- 데이타값이 있는지 확인 True, False"
   ]
  },
  {
   "cell_type": "code",
   "execution_count": 29,
   "metadata": {},
   "outputs": [
    {
     "data": {
      "text/html": [
       "<div>\n",
       "<style scoped>\n",
       "    .dataframe tbody tr th:only-of-type {\n",
       "        vertical-align: middle;\n",
       "    }\n",
       "\n",
       "    .dataframe tbody tr th {\n",
       "        vertical-align: top;\n",
       "    }\n",
       "\n",
       "    .dataframe thead th {\n",
       "        text-align: right;\n",
       "    }\n",
       "</style>\n",
       "<table border=\"1\" class=\"dataframe\">\n",
       "  <thead>\n",
       "    <tr style=\"text-align: right;\">\n",
       "      <th></th>\n",
       "      <th>A</th>\n",
       "      <th>B</th>\n",
       "      <th>C</th>\n",
       "      <th>D</th>\n",
       "      <th>E</th>\n",
       "    </tr>\n",
       "  </thead>\n",
       "  <tbody>\n",
       "    <tr>\n",
       "      <th>2019-01-22</th>\n",
       "      <td>-0.381007</td>\n",
       "      <td>1.515318</td>\n",
       "      <td>-0.609650</td>\n",
       "      <td>-1.513261</td>\n",
       "      <td>alpha</td>\n",
       "    </tr>\n",
       "    <tr>\n",
       "      <th>2019-01-23</th>\n",
       "      <td>-0.256419</td>\n",
       "      <td>1.018062</td>\n",
       "      <td>-0.761567</td>\n",
       "      <td>-0.695517</td>\n",
       "      <td>beta</td>\n",
       "    </tr>\n",
       "    <tr>\n",
       "      <th>2019-01-24</th>\n",
       "      <td>-1.018401</td>\n",
       "      <td>2.058475</td>\n",
       "      <td>0.665390</td>\n",
       "      <td>-0.415140</td>\n",
       "      <td>gamma</td>\n",
       "    </tr>\n",
       "    <tr>\n",
       "      <th>2019-01-25</th>\n",
       "      <td>-1.364938</td>\n",
       "      <td>2.325372</td>\n",
       "      <td>-0.276195</td>\n",
       "      <td>-0.724386</td>\n",
       "      <td>gamma</td>\n",
       "    </tr>\n",
       "    <tr>\n",
       "      <th>2019-01-26</th>\n",
       "      <td>0.887645</td>\n",
       "      <td>-2.429038</td>\n",
       "      <td>-0.399489</td>\n",
       "      <td>-0.077523</td>\n",
       "      <td>alpha</td>\n",
       "    </tr>\n",
       "    <tr>\n",
       "      <th>2019-01-27</th>\n",
       "      <td>0.924454</td>\n",
       "      <td>0.565099</td>\n",
       "      <td>3.211619</td>\n",
       "      <td>0.985656</td>\n",
       "      <td>gamma</td>\n",
       "    </tr>\n",
       "  </tbody>\n",
       "</table>\n",
       "</div>"
      ],
      "text/plain": [
       "                   A         B         C         D      E\n",
       "2019-01-22 -0.381007  1.515318 -0.609650 -1.513261  alpha\n",
       "2019-01-23 -0.256419  1.018062 -0.761567 -0.695517   beta\n",
       "2019-01-24 -1.018401  2.058475  0.665390 -0.415140  gamma\n",
       "2019-01-25 -1.364938  2.325372 -0.276195 -0.724386  gamma\n",
       "2019-01-26  0.887645 -2.429038 -0.399489 -0.077523  alpha\n",
       "2019-01-27  0.924454  0.565099  3.211619  0.985656  gamma"
      ]
     },
     "execution_count": 29,
     "metadata": {},
     "output_type": "execute_result"
    }
   ],
   "source": [
    "df2"
   ]
  },
  {
   "cell_type": "code",
   "execution_count": 30,
   "metadata": {},
   "outputs": [
    {
     "data": {
      "text/html": [
       "<div>\n",
       "<style scoped>\n",
       "    .dataframe tbody tr th:only-of-type {\n",
       "        vertical-align: middle;\n",
       "    }\n",
       "\n",
       "    .dataframe tbody tr th {\n",
       "        vertical-align: top;\n",
       "    }\n",
       "\n",
       "    .dataframe thead th {\n",
       "        text-align: right;\n",
       "    }\n",
       "</style>\n",
       "<table border=\"1\" class=\"dataframe\">\n",
       "  <thead>\n",
       "    <tr style=\"text-align: right;\">\n",
       "      <th></th>\n",
       "      <th>A</th>\n",
       "      <th>B</th>\n",
       "      <th>C</th>\n",
       "      <th>D</th>\n",
       "      <th>E</th>\n",
       "    </tr>\n",
       "  </thead>\n",
       "  <tbody>\n",
       "    <tr>\n",
       "      <th>2019-01-22</th>\n",
       "      <td>False</td>\n",
       "      <td>False</td>\n",
       "      <td>False</td>\n",
       "      <td>False</td>\n",
       "      <td>False</td>\n",
       "    </tr>\n",
       "    <tr>\n",
       "      <th>2019-01-23</th>\n",
       "      <td>False</td>\n",
       "      <td>False</td>\n",
       "      <td>False</td>\n",
       "      <td>False</td>\n",
       "      <td>False</td>\n",
       "    </tr>\n",
       "    <tr>\n",
       "      <th>2019-01-24</th>\n",
       "      <td>False</td>\n",
       "      <td>False</td>\n",
       "      <td>False</td>\n",
       "      <td>False</td>\n",
       "      <td>False</td>\n",
       "    </tr>\n",
       "    <tr>\n",
       "      <th>2019-01-25</th>\n",
       "      <td>False</td>\n",
       "      <td>False</td>\n",
       "      <td>False</td>\n",
       "      <td>False</td>\n",
       "      <td>False</td>\n",
       "    </tr>\n",
       "    <tr>\n",
       "      <th>2019-01-26</th>\n",
       "      <td>False</td>\n",
       "      <td>False</td>\n",
       "      <td>False</td>\n",
       "      <td>False</td>\n",
       "      <td>False</td>\n",
       "    </tr>\n",
       "    <tr>\n",
       "      <th>2019-01-27</th>\n",
       "      <td>False</td>\n",
       "      <td>False</td>\n",
       "      <td>False</td>\n",
       "      <td>False</td>\n",
       "      <td>False</td>\n",
       "    </tr>\n",
       "  </tbody>\n",
       "</table>\n",
       "</div>"
      ],
      "text/plain": [
       "                A      B      C      D      E\n",
       "2019-01-22  False  False  False  False  False\n",
       "2019-01-23  False  False  False  False  False\n",
       "2019-01-24  False  False  False  False  False\n",
       "2019-01-25  False  False  False  False  False\n",
       "2019-01-26  False  False  False  False  False\n",
       "2019-01-27  False  False  False  False  False"
      ]
     },
     "execution_count": 30,
     "metadata": {},
     "output_type": "execute_result"
    }
   ],
   "source": [
    "# 'alpha' 값이 있는 데이타 부분은 True로 출력  \n",
    "# ---> 전체로 물어봐서 하나하나 연산함. 오래걸림. 바람직하지 않음.\n",
    "df2.isin(['alpah'])"
   ]
  },
  {
   "cell_type": "code",
   "execution_count": 31,
   "metadata": {},
   "outputs": [
    {
     "data": {
      "text/plain": [
       "2019-01-22     True\n",
       "2019-01-23    False\n",
       "2019-01-24    False\n",
       "2019-01-25    False\n",
       "2019-01-26     True\n",
       "2019-01-27    False\n",
       "Freq: D, Name: E, dtype: bool"
      ]
     },
     "execution_count": 31,
     "metadata": {},
     "output_type": "execute_result"
    }
   ],
   "source": [
    "# 'alpha' 값이 있는 데이타 부분은 True로 출력  -> Series\n",
    "df2['E'].isin(['alpha'])"
   ]
  },
  {
   "cell_type": "code",
   "execution_count": 32,
   "metadata": {},
   "outputs": [
    {
     "data": {
      "text/plain": [
       "2019-01-22     True\n",
       "2019-01-23    False\n",
       "2019-01-24     True\n",
       "2019-01-25     True\n",
       "2019-01-26     True\n",
       "2019-01-27     True\n",
       "Freq: D, Name: E, dtype: bool"
      ]
     },
     "execution_count": 32,
     "metadata": {},
     "output_type": "execute_result"
    }
   ],
   "source": [
    "# 'alpha', 'gamma'값이 있는 데이타 부분은 True로 출력\n",
    "df2['E'].isin(['alpha','gamma'])"
   ]
  },
  {
   "cell_type": "code",
   "execution_count": 33,
   "metadata": {},
   "outputs": [
    {
     "data": {
      "text/html": [
       "<div>\n",
       "<style scoped>\n",
       "    .dataframe tbody tr th:only-of-type {\n",
       "        vertical-align: middle;\n",
       "    }\n",
       "\n",
       "    .dataframe tbody tr th {\n",
       "        vertical-align: top;\n",
       "    }\n",
       "\n",
       "    .dataframe thead th {\n",
       "        text-align: right;\n",
       "    }\n",
       "</style>\n",
       "<table border=\"1\" class=\"dataframe\">\n",
       "  <thead>\n",
       "    <tr style=\"text-align: right;\">\n",
       "      <th></th>\n",
       "      <th>A</th>\n",
       "      <th>B</th>\n",
       "      <th>C</th>\n",
       "      <th>D</th>\n",
       "      <th>E</th>\n",
       "    </tr>\n",
       "  </thead>\n",
       "  <tbody>\n",
       "    <tr>\n",
       "      <th>2019-01-22</th>\n",
       "      <td>-0.381007</td>\n",
       "      <td>1.515318</td>\n",
       "      <td>-0.609650</td>\n",
       "      <td>-1.513261</td>\n",
       "      <td>alpha</td>\n",
       "    </tr>\n",
       "    <tr>\n",
       "      <th>2019-01-26</th>\n",
       "      <td>0.887645</td>\n",
       "      <td>-2.429038</td>\n",
       "      <td>-0.399489</td>\n",
       "      <td>-0.077523</td>\n",
       "      <td>alpha</td>\n",
       "    </tr>\n",
       "  </tbody>\n",
       "</table>\n",
       "</div>"
      ],
      "text/plain": [
       "                   A         B         C         D      E\n",
       "2019-01-22 -0.381007  1.515318 -0.609650 -1.513261  alpha\n",
       "2019-01-26  0.887645 -2.429038 -0.399489 -0.077523  alpha"
      ]
     },
     "execution_count": 33,
     "metadata": {},
     "output_type": "execute_result"
    }
   ],
   "source": [
    "# 'alpha' 값이 있는 행 추출\n",
    "df2[df2['E'].isin(['alpha'])]"
   ]
  },
  {
   "cell_type": "code",
   "execution_count": null,
   "metadata": {},
   "outputs": [],
   "source": []
  },
  {
   "cell_type": "code",
   "execution_count": null,
   "metadata": {},
   "outputs": [],
   "source": []
  },
  {
   "cell_type": "code",
   "execution_count": null,
   "metadata": {},
   "outputs": [],
   "source": []
  }
 ],
 "metadata": {
  "kernelspec": {
   "display_name": "Python 3",
   "language": "python",
   "name": "python3"
  },
  "language_info": {
   "codemirror_mode": {
    "name": "ipython",
    "version": 3
   },
   "file_extension": ".py",
   "mimetype": "text/x-python",
   "name": "python",
   "nbconvert_exporter": "python",
   "pygments_lexer": "ipython3",
   "version": "3.7.4"
  }
 },
 "nbformat": 4,
 "nbformat_minor": 2
}
